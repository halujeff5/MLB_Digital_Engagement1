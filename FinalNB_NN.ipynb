{
 "cells": [
  {
   "cell_type": "code",
   "execution_count": 1,
   "metadata": {
    "_cell_guid": "b1076dfc-b9ad-4769-8c92-a6c4dae69d19",
    "_uuid": "8f2839f25d086af736a60e9eeb907d3b93b6e0e5",
    "execution": {
     "iopub.execute_input": "2021-07-22T14:25:29.262226Z",
     "iopub.status.busy": "2021-07-22T14:25:29.261582Z",
     "iopub.status.idle": "2021-07-22T14:25:29.293217Z",
     "shell.execute_reply": "2021-07-22T14:25:29.292113Z",
     "shell.execute_reply.started": "2021-07-22T14:25:29.262127Z"
    }
   },
   "outputs": [
    {
     "name": "stdout",
     "output_type": "stream",
     "text": [
      "/kaggle/input/mlb-player-digital-engagement-forecasting/players.csv\n",
      "/kaggle/input/mlb-player-digital-engagement-forecasting/example_sample_submission.csv\n",
      "/kaggle/input/mlb-player-digital-engagement-forecasting/teams.csv\n",
      "/kaggle/input/mlb-player-digital-engagement-forecasting/seasons.csv\n",
      "/kaggle/input/mlb-player-digital-engagement-forecasting/example_test.csv\n",
      "/kaggle/input/mlb-player-digital-engagement-forecasting/train_updated.csv\n",
      "/kaggle/input/mlb-player-digital-engagement-forecasting/train.csv\n",
      "/kaggle/input/mlb-player-digital-engagement-forecasting/awards.csv\n",
      "/kaggle/input/mlb-player-digital-engagement-forecasting/mlb/competition.cpython-37m-x86_64-linux-gnu.so\n",
      "/kaggle/input/mlb-player-digital-engagement-forecasting/mlb/__init__.py\n",
      "/kaggle/input/project-files/STANDINGS.PKL\n",
      "/kaggle/input/project-files/HOMERUNS.PKL\n",
      "/kaggle/input/project-files/OFFENSE.PKL\n",
      "/kaggle/input/project-files/awards.csv\n",
      "/kaggle/input/project-files/target_df.PKL\n"
     ]
    }
   ],
   "source": [
    "# This Python 3 environment comes with many helpful analytics libraries installed\n",
    "# It is defined by the kaggle/python Docker image: https://github.com/kaggle/docker-python\n",
    "# For example, here's several helpful packages to load\n",
    "\n",
    "import numpy as np # linear algebra\n",
    "import pandas as pd # data processing, CSV file I/O (e.g. pd.read_csv)\n",
    "\n",
    "# Input data files are available in the read-only \"../input/\" directory\n",
    "# For example, running this (by clicking run or pressing Shift+Enter) will list all files under the input directory\n",
    "\n",
    "import os\n",
    "for dirname, _, filenames in os.walk('/kaggle/input'):\n",
    "    for filename in filenames:\n",
    "        print(os.path.join(dirname, filename))\n",
    "\n",
    "# You can write up to 20GB to the current directory (/kaggle/working/) that gets preserved as output when you create a version using \"Save & Run All\" \n",
    "# You can also write temporary files to /kaggle/temp/, but they won't be saved outside of the current session"
   ]
  },
  {
   "cell_type": "code",
   "execution_count": 46,
   "metadata": {},
   "outputs": [],
   "source": [
    "#import necessary packages\n",
    "import pandas as pd\n",
    "import numpy as np\n",
    "import seaborn as sns\n",
    "import matplotlib.pyplot as plt\n",
    "%matplotlib inline\n",
    "import sklearn\n",
    "import re\n",
    "import csv\n",
    "from datetime import datetime\n",
    "import os\n",
    "import time\n",
    "import dask\n",
    "import json\n",
    "import pickle"
   ]
  },
  {
   "cell_type": "code",
   "execution_count": 47,
   "metadata": {},
   "outputs": [],
   "source": [
    "#importing pickle dataframes\n",
    "with open ('HOMERUNS.PKL', 'rb') as f:\n",
    "    homeruns_df= pickle.load(f)"
   ]
  },
  {
   "cell_type": "code",
   "execution_count": 48,
   "metadata": {},
   "outputs": [],
   "source": [
    "with open ('OFFENSE.PKL', 'rb') as f:\n",
    "    offense_df= pickle.load(f)"
   ]
  },
  {
   "cell_type": "code",
   "execution_count": 49,
   "metadata": {},
   "outputs": [],
   "source": [
    "with open ('STANDINGS.PKL', 'rb') as f:\n",
    "    standings_df=pickle.load(f)"
   ]
  },
  {
   "cell_type": "code",
   "execution_count": 50,
   "metadata": {},
   "outputs": [],
   "source": [
    "\n",
    "with open ('target_df.PKL', 'rb') as f:\n",
    "    target_df=pickle.load(f)"
   ]
  },
  {
   "cell_type": "markdown",
   "metadata": {},
   "source": [
    "## Data Cleaning and Preparing data for Tensorflow NN"
   ]
  },
  {
   "cell_type": "code",
   "execution_count": 51,
   "metadata": {},
   "outputs": [],
   "source": [
    "#taking only the first 7 digits of the target column\n",
    "target_df.target1= target_df.target1.map(lambda x: x[0:6])\n",
    "target_df.target2= target_df.target2.map(lambda x: x[0:6])\n",
    "target_df.target3= target_df.target3.map(lambda x: x[0:6])\n",
    "target_df.target4= target_df.target4.map(lambda x: x[0:6])"
   ]
  },
  {
   "cell_type": "code",
   "execution_count": 52,
   "metadata": {},
   "outputs": [],
   "source": [
    "df=pd.read_csv('players.csv')"
   ]
  },
  {
   "cell_type": "code",
   "execution_count": 53,
   "metadata": {},
   "outputs": [],
   "source": [
    "df3=pd.read_csv('awards.csv')"
   ]
  },
  {
   "cell_type": "code",
   "execution_count": 54,
   "metadata": {},
   "outputs": [],
   "source": [
    "#creating a dictionary for player Id: playername\n",
    "a=list(df.playerId)"
   ]
  },
  {
   "cell_type": "code",
   "execution_count": 55,
   "metadata": {},
   "outputs": [],
   "source": [
    "b=list(df.playerName)"
   ]
  },
  {
   "cell_type": "code",
   "execution_count": 56,
   "metadata": {},
   "outputs": [],
   "source": [
    "#dictionary created\n",
    "dictionary = dict(zip(a,b))"
   ]
  },
  {
   "cell_type": "code",
   "execution_count": 57,
   "metadata": {},
   "outputs": [],
   "source": [
    "dictionary1=dict(zip(b,a))"
   ]
  },
  {
   "cell_type": "code",
   "execution_count": 58,
   "metadata": {},
   "outputs": [],
   "source": [
    "#data cleaning the date \n",
    "target_df = target_df.rename(columns = {'engagementMetricsDate': 'gameDate'}, inplace = False)"
   ]
  },
  {
   "cell_type": "code",
   "execution_count": 59,
   "metadata": {},
   "outputs": [],
   "source": [
    "\n",
    "df3.drop(['Unnamed: 0'], axis=1, inplace=True)"
   ]
  },
  {
   "cell_type": "code",
   "execution_count": 60,
   "metadata": {},
   "outputs": [],
   "source": [
    "#joining award with target df\n",
    "work= pd.merge(target_df, df3, how='outer', on= ['playerId'])"
   ]
  },
  {
   "cell_type": "code",
   "execution_count": 61,
   "metadata": {},
   "outputs": [],
   "source": [
    "offense_df.rename(columns={'playerName': 'playerId'}, inplace=True)\n",
    "offense_df.drop(['teamName'], axis=1, inplace=True)"
   ]
  },
  {
   "cell_type": "code",
   "execution_count": 62,
   "metadata": {},
   "outputs": [],
   "source": [
    "work.gameDate.replace('engagementMetricsDate', np.nan).dropna(axis=0, inplace=True)"
   ]
  },
  {
   "cell_type": "code",
   "execution_count": 63,
   "metadata": {},
   "outputs": [],
   "source": [
    "work.dropna(axis=0, inplace=True)"
   ]
  },
  {
   "cell_type": "code",
   "execution_count": 64,
   "metadata": {},
   "outputs": [],
   "source": [
    "\n",
    "work2= pd.merge(work, offense_df, how='outer', on= ['playerId'])\n",
    "work3=work2[:5737823]"
   ]
  },
  {
   "cell_type": "code",
   "execution_count": 65,
   "metadata": {},
   "outputs": [],
   "source": [
    "\n",
    "work2.rename(columns={'gameDate_x': 'gameDate'}, inplace=True)"
   ]
  },
  {
   "cell_type": "code",
   "execution_count": 66,
   "metadata": {},
   "outputs": [],
   "source": [
    "work2.drop(['gameDate_y'], axis=1, inplace=True)"
   ]
  },
  {
   "cell_type": "code",
   "execution_count": 67,
   "metadata": {},
   "outputs": [],
   "source": [
    "work2.playerId.dropna(axis=0, inplace=True)"
   ]
  },
  {
   "cell_type": "code",
   "execution_count": 68,
   "metadata": {},
   "outputs": [],
   "source": [
    "work2.gameDate.replace('engagementMetricsDate', np.nan, inplace=True)"
   ]
  },
  {
   "cell_type": "code",
   "execution_count": 69,
   "metadata": {},
   "outputs": [],
   "source": [
    "work2.target1.dropna(axis=0, inplace=True)"
   ]
  },
  {
   "cell_type": "code",
   "execution_count": 70,
   "metadata": {},
   "outputs": [],
   "source": [
    "work2.drop(['awardId', 'awardPlayerTeamId'], axis=1, inplace=True)"
   ]
  },
  {
   "cell_type": "code",
   "execution_count": 71,
   "metadata": {},
   "outputs": [],
   "source": [
    "work2.gameDate.dropna(axis=0, inplace=True)"
   ]
  },
  {
   "cell_type": "code",
   "execution_count": 72,
   "metadata": {},
   "outputs": [],
   "source": [
    "work2.target1.dropna(axis=0, inplace=True)"
   ]
  },
  {
   "cell_type": "code",
   "execution_count": 73,
   "metadata": {},
   "outputs": [],
   "source": [
    "work2.drop(['awardSeason'], axis=1, inplace=True)"
   ]
  },
  {
   "cell_type": "code",
   "execution_count": null,
   "metadata": {},
   "outputs": [],
   "source": []
  },
  {
   "cell_type": "code",
   "execution_count": 80,
   "metadata": {},
   "outputs": [],
   "source": [
    "work2.gameDate=[str(x).replace('-', '') for x in work2.gameDate]"
   ]
  },
  {
   "cell_type": "code",
   "execution_count": 76,
   "metadata": {},
   "outputs": [],
   "source": [
    "work2.gameDate[:5737823]=[int(x) for x in work2.gameDate[:5737823]]"
   ]
  },
  {
   "cell_type": "code",
   "execution_count": 77,
   "metadata": {},
   "outputs": [],
   "source": [
    "work2.awardDate=[str(x).replace('-', '') for x in work2.awardDate]"
   ]
  },
  {
   "cell_type": "code",
   "execution_count": 78,
   "metadata": {},
   "outputs": [],
   "source": [
    "work2.awardDate.replace('awardDate', np.nan, inplace=True)"
   ]
  },
  {
   "cell_type": "code",
   "execution_count": 79,
   "metadata": {},
   "outputs": [],
   "source": [
    "work2.drop('playerId', axis=1, inplace=True)"
   ]
  },
  {
   "cell_type": "code",
   "execution_count": null,
   "metadata": {},
   "outputs": [],
   "source": []
  },
  {
   "cell_type": "code",
   "execution_count": 81,
   "metadata": {},
   "outputs": [],
   "source": [
    "work2.atBats.replace('atBats', np.nan, inplace=True)"
   ]
  },
  {
   "cell_type": "code",
   "execution_count": 82,
   "metadata": {},
   "outputs": [],
   "source": [
    "work2.atBats=[float(x) for x in work2.atBats]"
   ]
  },
  {
   "cell_type": "code",
   "execution_count": 83,
   "metadata": {},
   "outputs": [],
   "source": [
    "work2.rbi.replace('rbi', np.nan, inplace=True)\n",
    "work2.rbi=[float(x) for x in work2.rbi]"
   ]
  },
  {
   "cell_type": "code",
   "execution_count": 84,
   "metadata": {},
   "outputs": [],
   "source": [
    "work2.homeRuns.replace('homeRuns', np.nan, inplace=True)\n",
    "work2.homeRuns=[float(x) for x in work2.homeRuns]"
   ]
  },
  {
   "cell_type": "code",
   "execution_count": 85,
   "metadata": {},
   "outputs": [],
   "source": [
    "work2.replace('target', np.nan, inplace=True)\n",
    "work2.target1=[float(x) for x in work2.target1]\n",
    "work2.target2=[float(x) for x in work2.target2]\n",
    "work2.target3=[float(x) for x in work2.target3]\n",
    "work2.target4=[float(x) for x in work2.target4]"
   ]
  },
  {
   "cell_type": "code",
   "execution_count": 86,
   "metadata": {},
   "outputs": [
    {
     "data": {
      "text/plain": [
       "0"
      ]
     },
     "execution_count": 86,
     "metadata": {},
     "output_type": "execute_result"
    }
   ],
   "source": [
    "work2.target4[:5737823].isna().sum()"
   ]
  },
  {
   "cell_type": "code",
   "execution_count": null,
   "metadata": {},
   "outputs": [],
   "source": []
  },
  {
   "cell_type": "code",
   "execution_count": null,
   "metadata": {},
   "outputs": [],
   "source": []
  },
  {
   "cell_type": "markdown",
   "metadata": {
    "execution": {
     "iopub.execute_input": "2021-07-22T14:27:20.472700Z",
     "iopub.status.busy": "2021-07-22T14:27:20.472407Z",
     "iopub.status.idle": "2021-07-22T14:27:25.167982Z",
     "shell.execute_reply": "2021-07-22T14:27:25.166919Z",
     "shell.execute_reply.started": "2021-07-22T14:27:20.472668Z"
    }
   },
   "source": [
    "### The following code in cells is to transform the date_playerId column which is a specific format for this competition "
   ]
  },
  {
   "cell_type": "code",
   "execution_count": 87,
   "metadata": {},
   "outputs": [],
   "source": [
    "work2.playerName.replace(dictionary1, inplace=True)"
   ]
  },
  {
   "cell_type": "code",
   "execution_count": 88,
   "metadata": {},
   "outputs": [],
   "source": [
    "work2.playerName.replace('playerName', np.nan, inplace=True)"
   ]
  },
  {
   "cell_type": "code",
   "execution_count": 89,
   "metadata": {},
   "outputs": [],
   "source": [
    "work2.playerName.dropna(axis=0, inplace=True)"
   ]
  },
  {
   "cell_type": "code",
   "execution_count": null,
   "metadata": {},
   "outputs": [],
   "source": []
  },
  {
   "cell_type": "code",
   "execution_count": 90,
   "metadata": {},
   "outputs": [],
   "source": [
    "a=work2.playerName[:5737823].replace('Jimmie Sherfy', 000000)\n",
    "b=work2.gameDate[:5737823]"
   ]
  },
  {
   "cell_type": "code",
   "execution_count": 91,
   "metadata": {},
   "outputs": [
    {
     "data": {
      "text/plain": [
       "0"
      ]
     },
     "execution_count": 91,
     "metadata": {},
     "output_type": "execute_result"
    }
   ],
   "source": [
    "b.isna().sum()"
   ]
  },
  {
   "cell_type": "code",
   "execution_count": 92,
   "metadata": {},
   "outputs": [
    {
     "data": {
      "text/plain": [
       "624413    45342\n",
       "605141    41220\n",
       "592885    39159\n",
       "665489    39159\n",
       "673357    35037\n",
       "          ...  \n",
       "669720     2061\n",
       "608335     2061\n",
       "571503     2061\n",
       "645307     2061\n",
       "0          2061\n",
       "Name: playerName, Length: 973, dtype: int64"
      ]
     },
     "execution_count": 92,
     "metadata": {},
     "output_type": "execute_result"
    }
   ],
   "source": [
    "a.value_counts()"
   ]
  },
  {
   "cell_type": "code",
   "execution_count": 93,
   "metadata": {},
   "outputs": [],
   "source": [
    "player=list(a)\n",
    "date=list(b)"
   ]
  },
  {
   "cell_type": "code",
   "execution_count": 103,
   "metadata": {},
   "outputs": [],
   "source": [
    "date_playerId=list(zip(date,player))"
   ]
  },
  {
   "cell_type": "code",
   "execution_count": 104,
   "metadata": {},
   "outputs": [
    {
     "data": {
      "text/plain": [
       "(20210501, 624413)    18612\n",
       "(20210501, 605141)    16920\n",
       "(20210501, 592885)    16074\n",
       "(20210501, 665489)    16074\n",
       "(20210501, 666158)    14382\n",
       "                      ...  \n",
       "(20190520, 676801)        1\n",
       "(20190120, 600301)        1\n",
       "(20190807, 680702)        1\n",
       "(20201008, 600869)        1\n",
       "(20181110, 642545)        1\n",
       "Length: 1183168, dtype: int64"
      ]
     },
     "execution_count": 104,
     "metadata": {},
     "output_type": "execute_result"
    }
   ],
   "source": [
    "pd.Series(date_playerId).value_counts()"
   ]
  },
  {
   "cell_type": "code",
   "execution_count": 105,
   "metadata": {},
   "outputs": [],
   "source": [
    "\n",
    "joined_string=[str(x) for x in date_playerId]"
   ]
  },
  {
   "cell_type": "code",
   "execution_count": 106,
   "metadata": {},
   "outputs": [],
   "source": [
    "joiner=[str(x) for x in joined_string]"
   ]
  },
  {
   "cell_type": "code",
   "execution_count": 107,
   "metadata": {},
   "outputs": [],
   "source": [
    "\n",
    "\n",
    "date_playerId=[]\n",
    "for i in range(len(joiner)):\n",
    "    date_playerId.append(joiner[i].replace('.0, ', '_'))\n",
    "\n"
   ]
  },
  {
   "cell_type": "code",
   "execution_count": 108,
   "metadata": {},
   "outputs": [],
   "source": [
    "stuff= [date_playerId[i].replace('(', '').replace(')', '').replace(', ', '_') for i in range(len(date_playerId))]"
   ]
  },
  {
   "cell_type": "code",
   "execution_count": 118,
   "metadata": {},
   "outputs": [],
   "source": [
    "stuff=[x.replace(\"'\", \"\") for x in stuff]"
   ]
  },
  {
   "cell_type": "code",
   "execution_count": null,
   "metadata": {},
   "outputs": [],
   "source": []
  },
  {
   "cell_type": "code",
   "execution_count": 120,
   "metadata": {},
   "outputs": [],
   "source": [
    "work2.playerName=pd.Series(stuff)"
   ]
  },
  {
   "cell_type": "code",
   "execution_count": null,
   "metadata": {},
   "outputs": [],
   "source": []
  },
  {
   "cell_type": "code",
   "execution_count": 121,
   "metadata": {},
   "outputs": [
    {
     "data": {
      "text/html": [
       "<div>\n",
       "<style scoped>\n",
       "    .dataframe tbody tr th:only-of-type {\n",
       "        vertical-align: middle;\n",
       "    }\n",
       "\n",
       "    .dataframe tbody tr th {\n",
       "        vertical-align: top;\n",
       "    }\n",
       "\n",
       "    .dataframe thead th {\n",
       "        text-align: right;\n",
       "    }\n",
       "</style>\n",
       "<table border=\"1\" class=\"dataframe\">\n",
       "  <thead>\n",
       "    <tr style=\"text-align: right;\">\n",
       "      <th></th>\n",
       "      <th>gameDate</th>\n",
       "      <th>target1</th>\n",
       "      <th>target2</th>\n",
       "      <th>target3</th>\n",
       "      <th>target4</th>\n",
       "      <th>awardName</th>\n",
       "      <th>awardDate</th>\n",
       "      <th>playerName</th>\n",
       "      <th>atBats</th>\n",
       "      <th>rbi</th>\n",
       "      <th>homeRuns</th>\n",
       "    </tr>\n",
       "  </thead>\n",
       "  <tbody>\n",
       "    <tr>\n",
       "      <th>0</th>\n",
       "      <td>20180102</td>\n",
       "      <td>0.0111</td>\n",
       "      <td>4.4747</td>\n",
       "      <td>0.0051</td>\n",
       "      <td>5.7352</td>\n",
       "      <td>All-MLB Second Team</td>\n",
       "      <td>20201209</td>\n",
       "      <td>2.018010e+13</td>\n",
       "      <td>NaN</td>\n",
       "      <td>NaN</td>\n",
       "      <td>NaN</td>\n",
       "    </tr>\n",
       "    <tr>\n",
       "      <th>1</th>\n",
       "      <td>20180103</td>\n",
       "      <td>0.0063</td>\n",
       "      <td>2.5210</td>\n",
       "      <td>0.0016</td>\n",
       "      <td>2.7669</td>\n",
       "      <td>All-MLB Second Team</td>\n",
       "      <td>20201209</td>\n",
       "      <td>2.018010e+13</td>\n",
       "      <td>NaN</td>\n",
       "      <td>NaN</td>\n",
       "      <td>NaN</td>\n",
       "    </tr>\n",
       "    <tr>\n",
       "      <th>2</th>\n",
       "      <td>20180104</td>\n",
       "      <td>0.0035</td>\n",
       "      <td>2.3809</td>\n",
       "      <td>0.0036</td>\n",
       "      <td>3.4393</td>\n",
       "      <td>All-MLB Second Team</td>\n",
       "      <td>20201209</td>\n",
       "      <td>2.018010e+13</td>\n",
       "      <td>NaN</td>\n",
       "      <td>NaN</td>\n",
       "      <td>NaN</td>\n",
       "    </tr>\n",
       "    <tr>\n",
       "      <th>3</th>\n",
       "      <td>20180105</td>\n",
       "      <td>0.0033</td>\n",
       "      <td>3.3323</td>\n",
       "      <td>0.0122</td>\n",
       "      <td>4.8496</td>\n",
       "      <td>All-MLB Second Team</td>\n",
       "      <td>20201209</td>\n",
       "      <td>2.018011e+13</td>\n",
       "      <td>NaN</td>\n",
       "      <td>NaN</td>\n",
       "      <td>NaN</td>\n",
       "    </tr>\n",
       "    <tr>\n",
       "      <th>4</th>\n",
       "      <td>20180106</td>\n",
       "      <td>0.0239</td>\n",
       "      <td>1.4407</td>\n",
       "      <td>0.0015</td>\n",
       "      <td>2.3712</td>\n",
       "      <td>All-MLB Second Team</td>\n",
       "      <td>20201209</td>\n",
       "      <td>2.018011e+13</td>\n",
       "      <td>NaN</td>\n",
       "      <td>NaN</td>\n",
       "      <td>NaN</td>\n",
       "    </tr>\n",
       "    <tr>\n",
       "      <th>...</th>\n",
       "      <td>...</td>\n",
       "      <td>...</td>\n",
       "      <td>...</td>\n",
       "      <td>...</td>\n",
       "      <td>...</td>\n",
       "      <td>...</td>\n",
       "      <td>...</td>\n",
       "      <td>...</td>\n",
       "      <td>...</td>\n",
       "      <td>...</td>\n",
       "      <td>...</td>\n",
       "    </tr>\n",
       "    <tr>\n",
       "      <th>6495689</th>\n",
       "      <td>nan</td>\n",
       "      <td>NaN</td>\n",
       "      <td>NaN</td>\n",
       "      <td>NaN</td>\n",
       "      <td>NaN</td>\n",
       "      <td>NaN</td>\n",
       "      <td>nan</td>\n",
       "      <td>NaN</td>\n",
       "      <td>0.0</td>\n",
       "      <td>0.0</td>\n",
       "      <td>0.0</td>\n",
       "    </tr>\n",
       "    <tr>\n",
       "      <th>6495690</th>\n",
       "      <td>nan</td>\n",
       "      <td>NaN</td>\n",
       "      <td>NaN</td>\n",
       "      <td>NaN</td>\n",
       "      <td>NaN</td>\n",
       "      <td>NaN</td>\n",
       "      <td>nan</td>\n",
       "      <td>NaN</td>\n",
       "      <td>1.0</td>\n",
       "      <td>0.0</td>\n",
       "      <td>0.0</td>\n",
       "    </tr>\n",
       "    <tr>\n",
       "      <th>6495691</th>\n",
       "      <td>nan</td>\n",
       "      <td>NaN</td>\n",
       "      <td>NaN</td>\n",
       "      <td>NaN</td>\n",
       "      <td>NaN</td>\n",
       "      <td>NaN</td>\n",
       "      <td>nan</td>\n",
       "      <td>NaN</td>\n",
       "      <td>0.0</td>\n",
       "      <td>0.0</td>\n",
       "      <td>0.0</td>\n",
       "    </tr>\n",
       "    <tr>\n",
       "      <th>6495692</th>\n",
       "      <td>nan</td>\n",
       "      <td>NaN</td>\n",
       "      <td>NaN</td>\n",
       "      <td>NaN</td>\n",
       "      <td>NaN</td>\n",
       "      <td>NaN</td>\n",
       "      <td>nan</td>\n",
       "      <td>NaN</td>\n",
       "      <td>3.0</td>\n",
       "      <td>1.0</td>\n",
       "      <td>0.0</td>\n",
       "    </tr>\n",
       "    <tr>\n",
       "      <th>6495693</th>\n",
       "      <td>nan</td>\n",
       "      <td>NaN</td>\n",
       "      <td>NaN</td>\n",
       "      <td>NaN</td>\n",
       "      <td>NaN</td>\n",
       "      <td>NaN</td>\n",
       "      <td>nan</td>\n",
       "      <td>NaN</td>\n",
       "      <td>1.0</td>\n",
       "      <td>0.0</td>\n",
       "      <td>0.0</td>\n",
       "    </tr>\n",
       "  </tbody>\n",
       "</table>\n",
       "<p>6495694 rows × 11 columns</p>\n",
       "</div>"
      ],
      "text/plain": [
       "         gameDate  target1  target2  target3  target4            awardName  \\\n",
       "0        20180102   0.0111   4.4747   0.0051   5.7352  All-MLB Second Team   \n",
       "1        20180103   0.0063   2.5210   0.0016   2.7669  All-MLB Second Team   \n",
       "2        20180104   0.0035   2.3809   0.0036   3.4393  All-MLB Second Team   \n",
       "3        20180105   0.0033   3.3323   0.0122   4.8496  All-MLB Second Team   \n",
       "4        20180106   0.0239   1.4407   0.0015   2.3712  All-MLB Second Team   \n",
       "...           ...      ...      ...      ...      ...                  ...   \n",
       "6495689       nan      NaN      NaN      NaN      NaN                  NaN   \n",
       "6495690       nan      NaN      NaN      NaN      NaN                  NaN   \n",
       "6495691       nan      NaN      NaN      NaN      NaN                  NaN   \n",
       "6495692       nan      NaN      NaN      NaN      NaN                  NaN   \n",
       "6495693       nan      NaN      NaN      NaN      NaN                  NaN   \n",
       "\n",
       "        awardDate    playerName  atBats  rbi  homeRuns  \n",
       "0        20201209  2.018010e+13     NaN  NaN       NaN  \n",
       "1        20201209  2.018010e+13     NaN  NaN       NaN  \n",
       "2        20201209  2.018010e+13     NaN  NaN       NaN  \n",
       "3        20201209  2.018011e+13     NaN  NaN       NaN  \n",
       "4        20201209  2.018011e+13     NaN  NaN       NaN  \n",
       "...           ...           ...     ...  ...       ...  \n",
       "6495689       nan           NaN     0.0  0.0       0.0  \n",
       "6495690       nan           NaN     1.0  0.0       0.0  \n",
       "6495691       nan           NaN     0.0  0.0       0.0  \n",
       "6495692       nan           NaN     3.0  1.0       0.0  \n",
       "6495693       nan           NaN     1.0  0.0       0.0  \n",
       "\n",
       "[6495694 rows x 11 columns]"
      ]
     },
     "execution_count": 121,
     "metadata": {},
     "output_type": "execute_result"
    }
   ],
   "source": [
    "#the playerName column is the date_playerId column that needed to be processed\n",
    "work2.playerName=[float(x) for x in work2.playerName]\n",
    "work2"
   ]
  },
  {
   "cell_type": "code",
   "execution_count": 64,
   "metadata": {
    "execution": {
     "iopub.execute_input": "2021-07-22T14:28:24.525929Z",
     "iopub.status.busy": "2021-07-22T14:28:24.525627Z",
     "iopub.status.idle": "2021-07-22T14:28:24.847391Z",
     "shell.execute_reply": "2021-07-22T14:28:24.846286Z",
     "shell.execute_reply.started": "2021-07-22T14:28:24.525900Z"
    }
   },
   "outputs": [
    {
     "data": {
      "text/plain": [
       "[]"
      ]
     },
     "execution_count": 64,
     "metadata": {},
     "output_type": "execute_result"
    }
   ],
   "source": []
  },
  {
   "cell_type": "code",
   "execution_count": 65,
   "metadata": {
    "execution": {
     "iopub.execute_input": "2021-07-22T14:28:24.849319Z",
     "iopub.status.busy": "2021-07-22T14:28:24.848883Z",
     "iopub.status.idle": "2021-07-22T14:28:24.855251Z",
     "shell.execute_reply": "2021-07-22T14:28:24.854297Z",
     "shell.execute_reply.started": "2021-07-22T14:28:24.849281Z"
    }
   },
   "outputs": [],
   "source": []
  },
  {
   "cell_type": "code",
   "execution_count": 66,
   "metadata": {
    "execution": {
     "iopub.execute_input": "2021-07-22T14:28:24.857129Z",
     "iopub.status.busy": "2021-07-22T14:28:24.856488Z",
     "iopub.status.idle": "2021-07-22T14:28:24.896943Z",
     "shell.execute_reply": "2021-07-22T14:28:24.895933Z",
     "shell.execute_reply.started": "2021-07-22T14:28:24.857079Z"
    }
   },
   "outputs": [
    {
     "data": {
      "text/plain": [
       "1.928090113377032"
      ]
     },
     "execution_count": 66,
     "metadata": {},
     "output_type": "execute_result"
    }
   ],
   "source": []
  },
  {
   "cell_type": "markdown",
   "metadata": {},
   "source": [
    "## Getting data for TTS"
   ]
  },
  {
   "cell_type": "code",
   "execution_count": 68,
   "metadata": {
    "execution": {
     "iopub.execute_input": "2021-07-22T14:28:24.922252Z",
     "iopub.status.busy": "2021-07-22T14:28:24.921868Z",
     "iopub.status.idle": "2021-07-22T14:28:26.466320Z",
     "shell.execute_reply": "2021-07-22T14:28:26.465184Z",
     "shell.execute_reply.started": "2021-07-22T14:28:24.922216Z"
    }
   },
   "outputs": [],
   "source": [
    "from sklearn.model_selection import train_test_split\n",
    "X= work2[:5737823].drop(columns=['target1', 'target2', 'target3', 'target4'], axis=1)\n",
    "\n",
    "y= work2[:5737823].target1\n",
    "\n",
    "X_train, X_test, y_train, y_test = train_test_split(X, y, test_size=0.30, random_state=3)"
   ]
  },
  {
   "cell_type": "code",
   "execution_count": 69,
   "metadata": {
    "execution": {
     "iopub.execute_input": "2021-07-22T14:28:26.468197Z",
     "iopub.status.busy": "2021-07-22T14:28:26.467803Z",
     "iopub.status.idle": "2021-07-22T14:28:26.513575Z",
     "shell.execute_reply": "2021-07-22T14:28:26.512503Z",
     "shell.execute_reply.started": "2021-07-22T14:28:26.468158Z"
    }
   },
   "outputs": [
    {
     "data": {
      "text/html": [
       "<div>\n",
       "<style scoped>\n",
       "    .dataframe tbody tr th:only-of-type {\n",
       "        vertical-align: middle;\n",
       "    }\n",
       "\n",
       "    .dataframe tbody tr th {\n",
       "        vertical-align: top;\n",
       "    }\n",
       "\n",
       "    .dataframe thead th {\n",
       "        text-align: right;\n",
       "    }\n",
       "</style>\n",
       "<table border=\"1\" class=\"dataframe\">\n",
       "  <thead>\n",
       "    <tr style=\"text-align: right;\">\n",
       "      <th></th>\n",
       "      <th>gameDate</th>\n",
       "      <th>target1</th>\n",
       "      <th>target2</th>\n",
       "      <th>target3</th>\n",
       "      <th>target4</th>\n",
       "      <th>awardName</th>\n",
       "      <th>awardDate</th>\n",
       "      <th>playerName</th>\n",
       "      <th>atBats</th>\n",
       "      <th>rbi</th>\n",
       "      <th>homeRuns</th>\n",
       "    </tr>\n",
       "  </thead>\n",
       "  <tbody>\n",
       "    <tr>\n",
       "      <th>0</th>\n",
       "      <td>20180102</td>\n",
       "      <td>0.0111</td>\n",
       "      <td>4.4747</td>\n",
       "      <td>0.0051</td>\n",
       "      <td>5.7352</td>\n",
       "      <td>All-MLB Second Team</td>\n",
       "      <td>20201209</td>\n",
       "      <td>2.018010e+13</td>\n",
       "      <td>NaN</td>\n",
       "      <td>NaN</td>\n",
       "      <td>NaN</td>\n",
       "    </tr>\n",
       "    <tr>\n",
       "      <th>1</th>\n",
       "      <td>20180103</td>\n",
       "      <td>0.0063</td>\n",
       "      <td>2.5210</td>\n",
       "      <td>0.0016</td>\n",
       "      <td>2.7669</td>\n",
       "      <td>All-MLB Second Team</td>\n",
       "      <td>20201209</td>\n",
       "      <td>2.018010e+13</td>\n",
       "      <td>NaN</td>\n",
       "      <td>NaN</td>\n",
       "      <td>NaN</td>\n",
       "    </tr>\n",
       "    <tr>\n",
       "      <th>2</th>\n",
       "      <td>20180104</td>\n",
       "      <td>0.0035</td>\n",
       "      <td>2.3809</td>\n",
       "      <td>0.0036</td>\n",
       "      <td>3.4393</td>\n",
       "      <td>All-MLB Second Team</td>\n",
       "      <td>20201209</td>\n",
       "      <td>2.018010e+13</td>\n",
       "      <td>NaN</td>\n",
       "      <td>NaN</td>\n",
       "      <td>NaN</td>\n",
       "    </tr>\n",
       "    <tr>\n",
       "      <th>3</th>\n",
       "      <td>20180105</td>\n",
       "      <td>0.0033</td>\n",
       "      <td>3.3323</td>\n",
       "      <td>0.0122</td>\n",
       "      <td>4.8496</td>\n",
       "      <td>All-MLB Second Team</td>\n",
       "      <td>20201209</td>\n",
       "      <td>2.018011e+13</td>\n",
       "      <td>NaN</td>\n",
       "      <td>NaN</td>\n",
       "      <td>NaN</td>\n",
       "    </tr>\n",
       "    <tr>\n",
       "      <th>4</th>\n",
       "      <td>20180106</td>\n",
       "      <td>0.0239</td>\n",
       "      <td>1.4407</td>\n",
       "      <td>0.0015</td>\n",
       "      <td>2.3712</td>\n",
       "      <td>All-MLB Second Team</td>\n",
       "      <td>20201209</td>\n",
       "      <td>2.018011e+13</td>\n",
       "      <td>NaN</td>\n",
       "      <td>NaN</td>\n",
       "      <td>NaN</td>\n",
       "    </tr>\n",
       "    <tr>\n",
       "      <th>...</th>\n",
       "      <td>...</td>\n",
       "      <td>...</td>\n",
       "      <td>...</td>\n",
       "      <td>...</td>\n",
       "      <td>...</td>\n",
       "      <td>...</td>\n",
       "      <td>...</td>\n",
       "      <td>...</td>\n",
       "      <td>...</td>\n",
       "      <td>...</td>\n",
       "      <td>...</td>\n",
       "    </tr>\n",
       "    <tr>\n",
       "      <th>6495689</th>\n",
       "      <td>nan</td>\n",
       "      <td>1.9281</td>\n",
       "      <td>NaN</td>\n",
       "      <td>NaN</td>\n",
       "      <td>NaN</td>\n",
       "      <td>NaN</td>\n",
       "      <td>nan</td>\n",
       "      <td>NaN</td>\n",
       "      <td>0.0</td>\n",
       "      <td>0.0</td>\n",
       "      <td>0.0</td>\n",
       "    </tr>\n",
       "    <tr>\n",
       "      <th>6495690</th>\n",
       "      <td>nan</td>\n",
       "      <td>1.9281</td>\n",
       "      <td>NaN</td>\n",
       "      <td>NaN</td>\n",
       "      <td>NaN</td>\n",
       "      <td>NaN</td>\n",
       "      <td>nan</td>\n",
       "      <td>NaN</td>\n",
       "      <td>1.0</td>\n",
       "      <td>0.0</td>\n",
       "      <td>0.0</td>\n",
       "    </tr>\n",
       "    <tr>\n",
       "      <th>6495691</th>\n",
       "      <td>nan</td>\n",
       "      <td>1.9281</td>\n",
       "      <td>NaN</td>\n",
       "      <td>NaN</td>\n",
       "      <td>NaN</td>\n",
       "      <td>NaN</td>\n",
       "      <td>nan</td>\n",
       "      <td>NaN</td>\n",
       "      <td>0.0</td>\n",
       "      <td>0.0</td>\n",
       "      <td>0.0</td>\n",
       "    </tr>\n",
       "    <tr>\n",
       "      <th>6495692</th>\n",
       "      <td>nan</td>\n",
       "      <td>1.9281</td>\n",
       "      <td>NaN</td>\n",
       "      <td>NaN</td>\n",
       "      <td>NaN</td>\n",
       "      <td>NaN</td>\n",
       "      <td>nan</td>\n",
       "      <td>NaN</td>\n",
       "      <td>3.0</td>\n",
       "      <td>1.0</td>\n",
       "      <td>0.0</td>\n",
       "    </tr>\n",
       "    <tr>\n",
       "      <th>6495693</th>\n",
       "      <td>nan</td>\n",
       "      <td>1.9281</td>\n",
       "      <td>NaN</td>\n",
       "      <td>NaN</td>\n",
       "      <td>NaN</td>\n",
       "      <td>NaN</td>\n",
       "      <td>nan</td>\n",
       "      <td>NaN</td>\n",
       "      <td>1.0</td>\n",
       "      <td>0.0</td>\n",
       "      <td>0.0</td>\n",
       "    </tr>\n",
       "  </tbody>\n",
       "</table>\n",
       "<p>6495694 rows × 11 columns</p>\n",
       "</div>"
      ],
      "text/plain": [
       "         gameDate  target1  target2  target3  target4            awardName  \\\n",
       "0        20180102   0.0111   4.4747   0.0051   5.7352  All-MLB Second Team   \n",
       "1        20180103   0.0063   2.5210   0.0016   2.7669  All-MLB Second Team   \n",
       "2        20180104   0.0035   2.3809   0.0036   3.4393  All-MLB Second Team   \n",
       "3        20180105   0.0033   3.3323   0.0122   4.8496  All-MLB Second Team   \n",
       "4        20180106   0.0239   1.4407   0.0015   2.3712  All-MLB Second Team   \n",
       "...           ...      ...      ...      ...      ...                  ...   \n",
       "6495689       nan   1.9281      NaN      NaN      NaN                  NaN   \n",
       "6495690       nan   1.9281      NaN      NaN      NaN                  NaN   \n",
       "6495691       nan   1.9281      NaN      NaN      NaN                  NaN   \n",
       "6495692       nan   1.9281      NaN      NaN      NaN                  NaN   \n",
       "6495693       nan   1.9281      NaN      NaN      NaN                  NaN   \n",
       "\n",
       "        awardDate    playerName  atBats  rbi  homeRuns  \n",
       "0        20201209  2.018010e+13     NaN  NaN       NaN  \n",
       "1        20201209  2.018010e+13     NaN  NaN       NaN  \n",
       "2        20201209  2.018010e+13     NaN  NaN       NaN  \n",
       "3        20201209  2.018011e+13     NaN  NaN       NaN  \n",
       "4        20201209  2.018011e+13     NaN  NaN       NaN  \n",
       "...           ...           ...     ...  ...       ...  \n",
       "6495689       nan           NaN     0.0  0.0       0.0  \n",
       "6495690       nan           NaN     1.0  0.0       0.0  \n",
       "6495691       nan           NaN     0.0  0.0       0.0  \n",
       "6495692       nan           NaN     3.0  1.0       0.0  \n",
       "6495693       nan           NaN     1.0  0.0       0.0  \n",
       "\n",
       "[6495694 rows x 11 columns]"
      ]
     },
     "execution_count": 69,
     "metadata": {},
     "output_type": "execute_result"
    }
   ],
   "source": [
    "work2"
   ]
  },
  {
   "cell_type": "code",
   "execution_count": 127,
   "metadata": {},
   "outputs": [],
   "source": [
    "# formatting the awardName column to a float for tensorflow. One hot encoder is needed to get the award names and enumerated to form a basic\n",
    "# dictionary that can replace the column values\n",
    "from sklearn.preprocessing import OneHotEncoder\n",
    "enc = OneHotEncoder(handle_unknown='error',drop='first')"
   ]
  },
  {
   "cell_type": "code",
   "execution_count": 143,
   "metadata": {},
   "outputs": [],
   "source": [
    "work2=work2.loc[:5737823]"
   ]
  },
  {
   "cell_type": "code",
   "execution_count": 133,
   "metadata": {},
   "outputs": [],
   "source": [
    "mat_awards=enc.fit(work2[['awardName']])\n",
    "dictionary_e=enc.get_feature_names()"
   ]
  },
  {
   "cell_type": "code",
   "execution_count": 134,
   "metadata": {},
   "outputs": [],
   "source": [
    "obj_d=enumerate(dictionary_e)\n",
    "create=list(obj_d)"
   ]
  },
  {
   "cell_type": "code",
   "execution_count": 135,
   "metadata": {},
   "outputs": [],
   "source": [
    "list1=[]\n",
    "list2=[]\n",
    "for i in range(len(create)):\n",
    "    list2.append(create[0:][i][0]) \n",
    "for i in range(len(create)):   \n",
    "    list1.append(create[0:][i][1])"
   ]
  },
  {
   "cell_type": "code",
   "execution_count": 136,
   "metadata": {},
   "outputs": [
    {
     "data": {
      "text/plain": [
       "287"
      ]
     },
     "execution_count": 136,
     "metadata": {},
     "output_type": "execute_result"
    }
   ],
   "source": [
    "len(list1)"
   ]
  },
  {
   "cell_type": "code",
   "execution_count": 137,
   "metadata": {},
   "outputs": [],
   "source": [
    "list1=[str(x) for x in list1]\n",
    "list1=[list1[i].replace('x0_','') for i in range(len(list2))]"
   ]
  },
  {
   "cell_type": "code",
   "execution_count": 138,
   "metadata": {},
   "outputs": [],
   "source": [
    "list2=[int(x) for x in list2]"
   ]
  },
  {
   "cell_type": "code",
   "execution_count": 139,
   "metadata": {},
   "outputs": [],
   "source": [
    "res = dict(zip(list1, list2))"
   ]
  },
  {
   "cell_type": "code",
   "execution_count": 140,
   "metadata": {},
   "outputs": [
    {
     "data": {
      "text/plain": [
       "{'AFL Dernell Stenson Sportsmanship Award': 0,\n",
       " 'AFL Hall of Fame Member': 1,\n",
       " 'AFL Most Valuable Player': 2,\n",
       " 'AFL Pitcher of the Week': 3,\n",
       " 'AFL Player of the Week': 4,\n",
       " 'AFL Rising Stars': 5,\n",
       " 'AL All-Star': 6,\n",
       " 'AL Comeback Player of the Year': 7,\n",
       " 'AL Cy Young': 8,\n",
       " 'AL Hank Aaron Award': 9,\n",
       " 'AL MVP': 10,\n",
       " 'AL Pitcher of the Month': 11,\n",
       " 'AL Player of the Month': 12,\n",
       " 'AL Player of the Week': 13,\n",
       " 'AL Reliever of the Month': 14,\n",
       " 'AL Rookie of the Month': 15,\n",
       " 'AL Rookie of the Year': 16,\n",
       " 'AL Silver Slugger': 17,\n",
       " 'ALCS MVP': 18,\n",
       " 'APP Player of the Week': 19,\n",
       " 'APP Post-Season All-Star': 20,\n",
       " 'AZL Post-Season All-Star': 21,\n",
       " 'All-MLB First Team': 22,\n",
       " 'All-MLB Second Team': 23,\n",
       " 'All-Star MVP': 24,\n",
       " 'Astros Darryl Kile Award': 25,\n",
       " 'Astros Most Valuable Player': 26,\n",
       " 'Astros Pitcher of the Year': 27,\n",
       " 'Astros Rookie of the Year': 28,\n",
       " 'Athletics Dave Stewart Service Award': 29,\n",
       " 'Athletics Jim Catfish Hunter Award': 30,\n",
       " 'Babe Ruth Award': 31,\n",
       " 'Baseball America Double-A All-Star': 32,\n",
       " 'Baseball America High Class A All-Star': 33,\n",
       " 'Baseball America Low Class A All-Star': 34,\n",
       " 'Baseball America Major League All-Rookie Team': 35,\n",
       " 'Baseball America Major League Player of the Year': 36,\n",
       " 'Baseball America Major League Rookie of the Year': 37,\n",
       " 'Baseball America Minor League All-Star': 38,\n",
       " 'Baseball America Minor League Player of the Year': 39,\n",
       " 'Baseball America Rookie All-Star': 40,\n",
       " 'Baseball America Short-Season All-Star': 41,\n",
       " 'Baseball America Triple-A All-Star': 42,\n",
       " 'Blue Jays MVP': 43,\n",
       " 'Blue Jays Most Improved Player': 44,\n",
       " 'Blue Jays Pitcher of the Year': 45,\n",
       " 'Blue Jays Rookie of the Year': 46,\n",
       " 'Bobby Murcer Triple-A Championship MVP': 47,\n",
       " 'Bosox Club Man of the Year Award': 48,\n",
       " 'Brewers Good Guy Award': 49,\n",
       " 'Brewers MVP': 50,\n",
       " 'Brewers Michael Harrison Award': 51,\n",
       " 'Brewers Pitcher of the Year': 52,\n",
       " 'Brewers Top Newcomer Award': 53,\n",
       " 'Brewers Unsung Hero Award': 54,\n",
       " 'CAL Mid-Season All-Star': 55,\n",
       " 'CAL Most Valuable Player': 56,\n",
       " 'CAL Pitcher of the Week': 57,\n",
       " 'CAL Player of the Week': 58,\n",
       " 'CAL Post-Season All-Star': 59,\n",
       " 'CAR Mid-Season All-Star': 60,\n",
       " 'CAR Most Valuable Player': 61,\n",
       " 'CAR Pitcher of the Week': 62,\n",
       " 'CAR Pitcher of the Year': 63,\n",
       " 'CAR Player of the Week': 64,\n",
       " 'CAR Post-Season All-Star': 65,\n",
       " 'Cardinals Darryl Kile Award': 66,\n",
       " 'Caribbean Series All-Star': 67,\n",
       " 'Caribbean Series MVP': 68,\n",
       " 'Cleveland BBWAA Man of the Year Award': 69,\n",
       " 'DWL Most Valuable Player': 70,\n",
       " 'DWL Pitcher of the Year': 71,\n",
       " 'DWL Rookie of the Year': 72,\n",
       " 'Diamondbacks Good Guy Award': 73,\n",
       " 'Diamondbacks MVP Award': 74,\n",
       " 'Diamondbacks Pitcher of the Year': 75,\n",
       " 'Diamondbacks Rookie of the Year': 76,\n",
       " 'EAS Mid-Season All-Star': 77,\n",
       " 'EAS Most Valuable Player': 78,\n",
       " 'EAS Pitcher of the Week': 79,\n",
       " 'EAS Pitcher of the Year': 80,\n",
       " 'EAS Player of the Week': 81,\n",
       " 'EAS Playoffs Most Valuable Player': 82,\n",
       " 'EAS Post-Season All-Star': 83,\n",
       " 'EAS Rookie of the Year': 84,\n",
       " 'Edgar Martinez Outstanding DH of the Year': 85,\n",
       " 'FSL Mid-Season All-Star': 86,\n",
       " 'FSL Most Valuable Pitcher': 87,\n",
       " 'FSL Most Valuable Player': 88,\n",
       " 'FSL Pitcher of the Week': 89,\n",
       " 'FSL Player of the Week': 90,\n",
       " 'FSL Post-Season All-Star': 91,\n",
       " 'Futures Game Most Valuable Player': 92,\n",
       " 'Futures Game Selection': 93,\n",
       " 'Giants Willie McCovey Award': 94,\n",
       " 'Home Run Derby Participant': 95,\n",
       " 'Home Run Derby Winner': 96,\n",
       " 'INT Mid-Season All-Star': 97,\n",
       " 'INT Most Valuable Pitcher': 98,\n",
       " 'INT Most Valuable Player': 99,\n",
       " 'INT Pitcher of the Week': 100,\n",
       " 'INT Player of the Week': 101,\n",
       " 'INT Post-Season All-Star': 102,\n",
       " 'INT Rookie of the Year': 103,\n",
       " 'Indians Frank Gibbons/Steve Olin Good Guy Award': 104,\n",
       " 'Indians Gordon Cobbledick Golden Tomahawk Award': 105,\n",
       " 'Lou Brock Award': 106,\n",
       " 'Lou Gehrig Award': 107,\n",
       " 'MEX Mid-Season All-Star': 108,\n",
       " 'MEX Pitcher of the Year': 109,\n",
       " 'MID Mid-Season All-Star': 110,\n",
       " 'MID Pitcher of the Week': 111,\n",
       " 'MID Player of the Week': 112,\n",
       " 'MID Post-Season All-Star': 113,\n",
       " 'MLB Legendary Moments Award Presented by Budweiser': 114,\n",
       " 'MLB Play of the Week': 115,\n",
       " 'MLB Players Choice AL Comeback Player': 116,\n",
       " 'MLB Players Choice AL Outstanding Pitcher': 117,\n",
       " 'MLB Players Choice AL Outstanding Player': 118,\n",
       " 'MLB Players Choice AL Outstanding Rookie': 119,\n",
       " 'MLB Players Choice Man of the Year': 120,\n",
       " 'MLB Players Choice NL Comeback Player': 121,\n",
       " 'MLB Players Choice NL Outstanding Pitcher': 122,\n",
       " 'MLB Players Choice NL Outstanding Player': 123,\n",
       " 'MLB Players Choice NL Outstanding Rookie': 124,\n",
       " 'MLB Players Choice Player of the Year': 125,\n",
       " 'MLBPAA Angels Heart and Hustle Award': 126,\n",
       " 'MLBPAA Astros Heart and Hustle Award': 127,\n",
       " 'MLBPAA Athletics Heart and Hustle Award': 128,\n",
       " 'MLBPAA Blue Jays Heart and Hustle Award': 129,\n",
       " 'MLBPAA Braves Heart and Hustle Award': 130,\n",
       " 'MLBPAA Brewers Heart and Hustle Award': 131,\n",
       " 'MLBPAA Cardinals Heart and Hustle Award': 132,\n",
       " 'MLBPAA Cubs Heart and Hustle Award': 133,\n",
       " 'MLBPAA Diamondbacks Heart and Hustle Award': 134,\n",
       " 'MLBPAA Dodgers Heart and Hustle Award': 135,\n",
       " 'MLBPAA Giants Heart and Hustle Award': 136,\n",
       " 'MLBPAA Heart and Hustle Award': 137,\n",
       " 'MLBPAA Indians Heart and Hustle Award': 138,\n",
       " 'MLBPAA Mariners Heart and Hustle Award': 139,\n",
       " 'MLBPAA Marlins Heart and Hustle Award': 140,\n",
       " 'MLBPAA Mets Heart and Hustle Award': 141,\n",
       " 'MLBPAA Nationals Heart and Hustle Award': 142,\n",
       " 'MLBPAA Orioles Heart and Hustle Award': 143,\n",
       " 'MLBPAA Padres Heart and Hustle Award': 144,\n",
       " 'MLBPAA Phillies Heart and Hustle Award': 145,\n",
       " 'MLBPAA Pirates Heart and Hustle Award': 146,\n",
       " 'MLBPAA Rangers Heart and Hustle Award': 147,\n",
       " 'MLBPAA Rays Heart and Hustle Award': 148,\n",
       " 'MLBPAA Red Sox Heart and Hustle Award': 149,\n",
       " 'MLBPAA Reds Heart and Hustle Award': 150,\n",
       " 'MLBPAA Rockies Heart and Hustle Award': 151,\n",
       " 'MLBPAA Royals Heart and Hustle Award': 152,\n",
       " 'MLBPAA Tigers Heart and Hustle Award': 153,\n",
       " 'MLBPAA Twins Heart and Hustle Award': 154,\n",
       " 'MLBPAA White Sox Heart and Hustle Award': 155,\n",
       " 'MLBPAA Yankees Heart and Hustle Award': 156,\n",
       " 'MLBPipeline.com Hitter of the Year': 157,\n",
       " 'Mariano Rivera AL Reliever of the Year': 158,\n",
       " 'Mariners MVP': 159,\n",
       " 'Mariners Unsung Hero Award': 160,\n",
       " 'Marlins Charlie Hough Good Guy Award': 161,\n",
       " 'Marlins Jeff Conine Award': 162,\n",
       " 'Marlins MVP': 163,\n",
       " 'Marlins Rookie of the Year': 164,\n",
       " 'MiLB Gold Glove': 165,\n",
       " 'MiLB Joe Bauman Home Run Award': 166,\n",
       " 'MiLB Joe Bauman Home Run Award Double A': 167,\n",
       " 'MiLB Joe Bauman Home Run Award Triple A': 168,\n",
       " 'MiLB.com CAL Player of the Month': 169,\n",
       " 'MiLB.com CAR Player of the Month': 170,\n",
       " 'MiLB.com EAS Player of the Month': 171,\n",
       " 'MiLB.com FSL Player of the Month': 172,\n",
       " \"MiLB.com Fans' Choice for Best Offensive Player\": 173,\n",
       " \"MiLB.com Fans' Choice for Best Starting Pitcher\": 174,\n",
       " \"MiLB.com Fans' Choice for Breakout Prospect\": 175,\n",
       " 'MiLB.com INT Player of the Month': 176,\n",
       " 'MiLB.com MID Player of the Month': 177,\n",
       " 'MiLB.com NWL Player of the Month': 178,\n",
       " 'MiLB.com Organization All-Star': 179,\n",
       " 'MiLB.com PCL Player of the Month': 180,\n",
       " 'MiLB.com SAL Player of the Month': 181,\n",
       " 'MiLB.com SOU Player of the Month': 182,\n",
       " 'MiLB.com Staff Choice for Best Offensive Player': 183,\n",
       " 'MiLB.com Staff Choice for Best Relief Pitcher': 184,\n",
       " 'MiLB.com Staff Choice for Best Starting Pitcher': 185,\n",
       " 'MiLB.com Staff Choice for Breakout Prospect': 186,\n",
       " 'MiLB.com TEX Player of the Month': 187,\n",
       " 'NL All-Star': 188,\n",
       " 'NL Comeback Player of the Year': 189,\n",
       " 'NL Cy Young': 190,\n",
       " 'NL Hank Aaron Award': 191,\n",
       " 'NL MVP': 192,\n",
       " 'NL Pitcher of the Month': 193,\n",
       " 'NL Player of the Month': 194,\n",
       " 'NL Player of the Week': 195,\n",
       " 'NL Reliever of the Month': 196,\n",
       " 'NL Rookie of the Month': 197,\n",
       " 'NL Rookie of the Year': 198,\n",
       " 'NL Silver Slugger': 199,\n",
       " 'NLCS MVP': 200,\n",
       " 'NWL Mid-Season All-Star': 201,\n",
       " 'NWL Player of the Week': 202,\n",
       " 'NWL Post-Season All-Star': 203,\n",
       " 'NYP Mid-Season All-Star': 204,\n",
       " 'NYP Pitcher of the Week': 205,\n",
       " 'NYP Player of the Week': 206,\n",
       " 'Orioles Most Valuable Award': 207,\n",
       " 'PCL Mid-Season All-Star': 208,\n",
       " 'PCL Most Valuable Player': 209,\n",
       " 'PCL Pitcher of the Week': 210,\n",
       " 'PCL Pitcher of the Year': 211,\n",
       " 'PCL Player of the Week': 212,\n",
       " 'PCL Post-Season All-Star': 213,\n",
       " 'PCL Rookie of the Year': 214,\n",
       " 'PIO Mid-Season All-Star': 215,\n",
       " 'PIO Pitcher of the Week': 216,\n",
       " 'PWL Comeback Player of the Year': 217,\n",
       " 'PWL Most Valuable Player': 218,\n",
       " 'PWL Pitcher of the Year': 219,\n",
       " 'PWL Post-Season All-Star': 220,\n",
       " 'PWL Rookie of the Year': 221,\n",
       " \"Padres Chairman's Award\": 222,\n",
       " 'Padres Clyde McCullough Pitcher of the Year Award': 223,\n",
       " 'Padres Darrel Akerfelds Bullpen Award': 224,\n",
       " 'Padres MVP': 225,\n",
       " 'Rangers Harold McKinney Good Guy Award': 226,\n",
       " 'Rangers MVP': 227,\n",
       " 'Rangers Pitcher of the Year': 228,\n",
       " 'Rangers Richard Durrett Hardest Working Man Award': 229,\n",
       " 'Rangers Rookie of the Year': 230,\n",
       " 'Rawlings AL Gold Glove': 231,\n",
       " 'Rawlings AL Platinum Glove': 232,\n",
       " 'Rawlings NL Gold Glove': 233,\n",
       " 'Rawlings NL Platinum Glove': 234,\n",
       " 'Red Sox Good Guy Award': 235,\n",
       " 'Red Sox Jensen Spirit Award': 236,\n",
       " 'Red Sox Pitcher of the Year': 237,\n",
       " 'Red Sox Rookie of the Year': 238,\n",
       " 'Reds Ernie Lombardi MVP Award': 239,\n",
       " 'Reds Joe Nuxhall Good Guy Award': 240,\n",
       " 'Reds Johnny Vander Meer Award': 241,\n",
       " 'Roberto Clemente Award': 242,\n",
       " 'SAL Mid-Season All-Star': 243,\n",
       " 'SAL Pitcher of the Week': 244,\n",
       " 'SAL Player of the Week': 245,\n",
       " 'SAL Post-Season All-Star': 246,\n",
       " 'SOU All-Star Game Top Star': 247,\n",
       " 'SOU Championship Series Most Valuable Player': 248,\n",
       " 'SOU Mid-Season All-Star': 249,\n",
       " 'SOU Most Outstanding Pitcher': 250,\n",
       " 'SOU Most Valuable Player': 251,\n",
       " 'SOU Pitcher of the Week': 252,\n",
       " 'SOU Player of the Week': 253,\n",
       " 'SOU Post-Season All-Star': 254,\n",
       " 'TEX All-Star Game Top Star': 255,\n",
       " 'TEX Mid-Season All-Star': 256,\n",
       " 'TEX Pitcher of the Week': 257,\n",
       " 'TEX Pitcher of the Year': 258,\n",
       " 'TEX Player of the Week': 259,\n",
       " 'TEX Player of the Year': 260,\n",
       " 'TEX Post-Season All-Star': 261,\n",
       " 'The Hutch Award': 262,\n",
       " 'Thomas A. Yawkey Red Sox MVP': 263,\n",
       " 'Tigers Rookie of the Year': 264,\n",
       " 'Tony Conigliaro Award': 265,\n",
       " 'Trevor Hoffman NL Reliever of the Year': 266,\n",
       " 'Triple-A All-Star Game Top Star, INT': 267,\n",
       " 'Triple-A All-Star Game Top Star, PCL': 268,\n",
       " 'Twins Calvin R. Griffith MVP Award': 269,\n",
       " 'Twins Carl R. Pohlad Award': 270,\n",
       " 'Twins Dick Siebert Player of the Year Award': 271,\n",
       " 'Twins Good Guy Award': 272,\n",
       " 'Twins Joseph W. Haynes Pitcher of the Year Award': 273,\n",
       " 'Twins Leadership Award': 274,\n",
       " 'Twins Most Improved Award': 275,\n",
       " 'Twins Outstanding Rookie Award': 276,\n",
       " 'USA Today Minor League Player of the Year': 277,\n",
       " 'Uniform number retired': 278,\n",
       " 'VWL Comeback Player of the Year': 279,\n",
       " 'VWL Most Valuable Player': 280,\n",
       " 'VWL Reliever of the Year': 281,\n",
       " 'Warren Spahn Award': 282,\n",
       " 'Wilson Defensive Player of the Year': 283,\n",
       " 'Wilson MLB Defensive Player of the Year': 284,\n",
       " 'World Series Championship': 285,\n",
       " 'World Series MVP': 286}"
      ]
     },
     "execution_count": 140,
     "metadata": {},
     "output_type": "execute_result"
    }
   ],
   "source": [
    "#result dictionary\n",
    "res"
   ]
  },
  {
   "cell_type": "code",
   "execution_count": 144,
   "metadata": {},
   "outputs": [],
   "source": [
    "work2.awardName.replace(res, inplace=True)\n"
   ]
  },
  {
   "cell_type": "code",
   "execution_count": 145,
   "metadata": {},
   "outputs": [],
   "source": [
    "work2.awardName.replace('AFL All-Prospect Team', 287, inplace=True)"
   ]
  },
  {
   "cell_type": "code",
   "execution_count": 146,
   "metadata": {},
   "outputs": [
    {
     "data": {
      "text/plain": [
       "179    692495\n",
       "93     162819\n",
       "285    160758\n",
       "6      156636\n",
       "188    148392\n",
       "        ...  \n",
       "99       2061\n",
       "40       2061\n",
       "78       2061\n",
       "103      2061\n",
       "63       2061\n",
       "Name: awardName, Length: 288, dtype: int64"
      ]
     },
     "execution_count": 146,
     "metadata": {},
     "output_type": "execute_result"
    }
   ],
   "source": [
    "work2.awardName.value_counts()\n"
   ]
  },
  {
   "cell_type": "code",
   "execution_count": 82,
   "metadata": {
    "execution": {
     "iopub.execute_input": "2021-07-22T14:28:35.714676Z",
     "iopub.status.busy": "2021-07-22T14:28:35.714360Z",
     "iopub.status.idle": "2021-07-22T14:28:35.719044Z",
     "shell.execute_reply": "2021-07-22T14:28:35.718014Z",
     "shell.execute_reply.started": "2021-07-22T14:28:35.714644Z"
    }
   },
   "outputs": [],
   "source": []
  },
  {
   "cell_type": "code",
   "execution_count": 83,
   "metadata": {
    "execution": {
     "iopub.execute_input": "2021-07-22T14:28:35.720739Z",
     "iopub.status.busy": "2021-07-22T14:28:35.720430Z",
     "iopub.status.idle": "2021-07-22T14:28:35.733044Z",
     "shell.execute_reply": "2021-07-22T14:28:35.732015Z",
     "shell.execute_reply.started": "2021-07-22T14:28:35.720709Z"
    }
   },
   "outputs": [],
   "source": []
  },
  {
   "cell_type": "code",
   "execution_count": null,
   "metadata": {},
   "outputs": [],
   "source": []
  },
  {
   "cell_type": "code",
   "execution_count": 84,
   "metadata": {
    "execution": {
     "iopub.execute_input": "2021-07-22T14:28:35.735005Z",
     "iopub.status.busy": "2021-07-22T14:28:35.734549Z",
     "iopub.status.idle": "2021-07-22T14:28:35.839773Z",
     "shell.execute_reply": "2021-07-22T14:28:35.838679Z",
     "shell.execute_reply.started": "2021-07-22T14:28:35.734947Z"
    }
   },
   "outputs": [],
   "source": []
  },
  {
   "cell_type": "code",
   "execution_count": 178,
   "metadata": {},
   "outputs": [],
   "source": [
    "# converted all the nan values into 0.0 which can than utilize the masking method in tf to input sequences \n",
    "work2.replace(np.nan, 0.0, inplace=True)"
   ]
  },
  {
   "cell_type": "code",
   "execution_count": 149,
   "metadata": {},
   "outputs": [],
   "source": [
    "#first scale data\n",
    "from sklearn.preprocessing import MinMaxScaler"
   ]
  },
  {
   "cell_type": "code",
   "execution_count": 150,
   "metadata": {},
   "outputs": [],
   "source": [
    "scaler=MinMaxScaler()"
   ]
  },
  {
   "cell_type": "code",
   "execution_count": 214,
   "metadata": {},
   "outputs": [],
   "source": [
    "# This data is the features in the model\n",
    "X=work2.drop(['target1', 'target2', 'target3', 'target4'], inplace=False, axis=1)"
   ]
  },
  {
   "cell_type": "code",
   "execution_count": 215,
   "metadata": {},
   "outputs": [],
   "source": [
    "# Leaving room for a holdout set\n",
    "X=X.loc[:5000000]"
   ]
  },
  {
   "cell_type": "code",
   "execution_count": null,
   "metadata": {},
   "outputs": [],
   "source": []
  },
  {
   "cell_type": "code",
   "execution_count": null,
   "metadata": {},
   "outputs": [],
   "source": []
  },
  {
   "cell_type": "code",
   "execution_count": 216,
   "metadata": {},
   "outputs": [],
   "source": [
    "# Final dtype conversion to prepare for tf \n",
    "X = np.asarray(X).astype('float32')"
   ]
  },
  {
   "cell_type": "code",
   "execution_count": 217,
   "metadata": {},
   "outputs": [
    {
     "data": {
      "text/plain": [
       "array([[2.0180102e+07, 2.3000000e+01, 2.0201208e+07, ..., 0.0000000e+00,\n",
       "        0.0000000e+00, 0.0000000e+00],\n",
       "       [2.0180104e+07, 2.3000000e+01, 2.0201208e+07, ..., 0.0000000e+00,\n",
       "        0.0000000e+00, 0.0000000e+00],\n",
       "       [2.0180104e+07, 2.3000000e+01, 2.0201208e+07, ..., 0.0000000e+00,\n",
       "        0.0000000e+00, 0.0000000e+00],\n",
       "       ...,\n",
       "       [2.0191124e+07, 2.1000000e+02, 2.0180804e+07, ..., 0.0000000e+00,\n",
       "        0.0000000e+00, 0.0000000e+00],\n",
       "       [2.0191124e+07, 2.1000000e+02, 2.0190616e+07, ..., 0.0000000e+00,\n",
       "        0.0000000e+00, 0.0000000e+00],\n",
       "       [2.0191124e+07, 1.9500000e+02, 2.0200912e+07, ..., 0.0000000e+00,\n",
       "        0.0000000e+00, 0.0000000e+00]], dtype=float32)"
      ]
     },
     "execution_count": 217,
     "metadata": {},
     "output_type": "execute_result"
    }
   ],
   "source": [
    "X"
   ]
  },
  {
   "cell_type": "code",
   "execution_count": null,
   "metadata": {},
   "outputs": [],
   "source": []
  },
  {
   "cell_type": "code",
   "execution_count": null,
   "metadata": {},
   "outputs": [],
   "source": []
  },
  {
   "cell_type": "code",
   "execution_count": 219,
   "metadata": {},
   "outputs": [],
   "source": [
    "# TTS\n",
    "from sklearn.model_selection import train_test_split\n",
    "X=X\n",
    "y= work2.loc[:5000000].target1\n",
    "\n",
    "X_train, X_test, y_train, y_test = train_test_split(X, y, test_size=0.33, random_state=3)"
   ]
  },
  {
   "cell_type": "code",
   "execution_count": 220,
   "metadata": {},
   "outputs": [
    {
     "data": {
      "text/plain": [
       "array([[1.        , 0.6236934 , 0.36090088, ..., 0.        , 0.        ,\n",
       "        0.        ],\n",
       "       [1.        , 0.6236934 , 0.36090088, ..., 0.        , 0.        ,\n",
       "        0.        ],\n",
       "       [0.02703857, 0.38327527, 0.34417725, ..., 0.        , 0.        ,\n",
       "        0.        ],\n",
       "       ...,\n",
       "       [0.03717041, 0.20905924, 0.01324463, ..., 0.        , 0.        ,\n",
       "        0.        ],\n",
       "       [0.34906006, 0.8815331 , 0.34094238, ..., 0.        , 0.        ,\n",
       "        0.        ],\n",
       "       [1.        , 0.33101046, 0.01641846, ..., 0.        , 0.        ,\n",
       "        0.        ]], dtype=float32)"
      ]
     },
     "execution_count": 220,
     "metadata": {},
     "output_type": "execute_result"
    }
   ],
   "source": [
    "# Using the MinMax Scaler defined above\n",
    "scaler.fit_transform(X_train)\n",
    "scaler.fit_transform(X_test)"
   ]
  },
  {
   "cell_type": "code",
   "execution_count": 243,
   "metadata": {},
   "outputs": [],
   "source": [
    "# Reshaping the sequences to match the shape required for LSTM\n",
    "X_train=X_train.reshape(-1, 7,1)"
   ]
  },
  {
   "cell_type": "code",
   "execution_count": 239,
   "metadata": {},
   "outputs": [
    {
     "data": {
      "text/plain": [
       "7"
      ]
     },
     "execution_count": 239,
     "metadata": {},
     "output_type": "execute_result"
    }
   ],
   "source": [
    "X_train.shape[1]"
   ]
  },
  {
   "cell_type": "code",
   "execution_count": null,
   "metadata": {},
   "outputs": [],
   "source": []
  },
  {
   "cell_type": "code",
   "execution_count": null,
   "metadata": {},
   "outputs": [],
   "source": []
  },
  {
   "cell_type": "code",
   "execution_count": 167,
   "metadata": {},
   "outputs": [],
   "source": [
    "# Importing tf and Keras\n",
    "import tensorflow as tf\n",
    "from keras.models import Sequential\n",
    "from keras.layers import Dense, LSTM\n",
    "from tensorflow import keras\n",
    "from tensorflow.keras import layers"
   ]
  },
  {
   "cell_type": "markdown",
   "metadata": {},
   "source": [
    "## Target 1 Predict"
   ]
  },
  {
   "cell_type": "code",
   "execution_count": 262,
   "metadata": {},
   "outputs": [],
   "source": [
    "#building the neural net\n",
    "model=Sequential()\n",
    "model.add(tf.keras.layers.Masking(mask_value=0.0, input_shape=(X_train.shape[1], 1)))\n",
    "\n",
    "model.add(LSTM(100, return_sequences=True, input_shape=(X_train.shape[1], 1 )))\n",
    "model.add(LSTM(100, return_sequences=True, input_shape=(X_train.shape[1], 1)))\n",
    "model.add(LSTM(100, return_sequences=False))\n",
    "model.add(Dense(35))\n",
    "model.add(Dense(1))"
   ]
  },
  {
   "cell_type": "code",
   "execution_count": 266,
   "metadata": {},
   "outputs": [],
   "source": [
    "#Adadelta optimizer\n",
    "optimizer=tf.keras.optimizers.Adadelta(\n",
    "    learning_rate=0.08,\n",
    "    initial_accumulator_value=0.1,\n",
    "    epsilon=1e-07,\n",
    "    name=\"Adadelta\")"
   ]
  },
  {
   "cell_type": "code",
   "execution_count": 305,
   "metadata": {},
   "outputs": [],
   "source": [
    "# Adam optimizer\n",
    "optimizer=tf.keras.optimizers.Adam(\n",
    "    learning_rate=0.08,\n",
    "    beta_1=0.9,\n",
    "    beta_2=0.999,\n",
    "    epsilon=1e-07,\n",
    "    amsgrad=True,\n",
    "    name=\"Adam\")"
   ]
  },
  {
   "cell_type": "code",
   "execution_count": 297,
   "metadata": {},
   "outputs": [],
   "source": [
    "# SGD optimizer\n",
    "optimizer=tf.keras.optimizers.SGD(\n",
    "    learning_rate=0.1, nesterov=True, name=\"SGD\")\n"
   ]
  },
  {
   "cell_type": "code",
   "execution_count": 271,
   "metadata": {},
   "outputs": [],
   "source": [
    "#Compile the model\n",
    "\n",
    "model.compile(optimizer=optimizer, loss='mean_absolute_error')\n",
    "my_callbacks = [tf.keras.callbacks.EarlyStopping(patience=2)]"
   ]
  },
  {
   "cell_type": "code",
   "execution_count": 272,
   "metadata": {},
   "outputs": [
    {
     "name": "stdout",
     "output_type": "stream",
     "text": [
      "Epoch 1/12\n",
      "67/67 [==============================] - 460s 7s/step - loss: 3.6247 - val_loss: 2.1171\n",
      "Epoch 2/12\n",
      "67/67 [==============================] - 433s 6s/step - loss: 2.1115 - val_loss: 2.0580\n",
      "Epoch 3/12\n",
      "67/67 [==============================] - 430s 6s/step - loss: 2.0724 - val_loss: 2.0580\n",
      "Epoch 4/12\n",
      "67/67 [==============================] - 428s 6s/step - loss: 2.0703 - val_loss: 2.0580\n",
      "Epoch 5/12\n",
      "67/67 [==============================] - 427s 6s/step - loss: 2.0675 - val_loss: 2.0580\n"
     ]
    },
    {
     "data": {
      "text/plain": [
       "<tensorflow.python.keras.callbacks.History at 0x7fc1478e9e50>"
      ]
     },
     "execution_count": 272,
     "metadata": {},
     "output_type": "execute_result"
    }
   ],
   "source": [
    "history=model.fit(X_train, y_train, batch_size=50000, epochs=12, callbacks=my_callbacks, validation_data=(X_test, y_test), workers=-1 )"
   ]
  },
  {
   "cell_type": "code",
   "execution_count": 273,
   "metadata": {},
   "outputs": [],
   "source": [
    "y_pred=model.predict(X_test)\n"
   ]
  },
  {
   "cell_type": "code",
   "execution_count": 277,
   "metadata": {},
   "outputs": [],
   "source": [
    "valid_set=work2.drop(['target1', 'target2', 'target3', 'target4'], inplace=False, axis=1)"
   ]
  },
  {
   "cell_type": "code",
   "execution_count": 290,
   "metadata": {},
   "outputs": [
    {
     "data": {
      "text/plain": [
       "array([[0.36257772, 0.67944251, 0.68498229, ..., 0.        , 0.        ,\n",
       "        0.        ],\n",
       "       [0.36261061, 0.73170732, 0.01939691, ..., 0.        , 0.        ,\n",
       "        0.        ],\n",
       "       [0.36261061, 0.73170732, 0.34414617, ..., 0.        , 0.        ,\n",
       "        0.        ],\n",
       "       ...,\n",
       "       [1.        , 0.62369338, 0.02601701, ..., 0.        , 0.        ,\n",
       "        0.        ],\n",
       "       [1.        , 0.28222997, 0.01019496, ..., 0.        , 0.        ,\n",
       "        0.        ],\n",
       "       [1.        , 0.11149826, 0.02300487, ..., 0.        , 0.        ,\n",
       "        0.        ]])"
      ]
     },
     "execution_count": 290,
     "metadata": {},
     "output_type": "execute_result"
    }
   ],
   "source": [
    "scaler.fit_transform(valid_set[5000000:])"
   ]
  },
  {
   "cell_type": "code",
   "execution_count": 293,
   "metadata": {},
   "outputs": [],
   "source": [
    "valid_set=np.array(valid_set).astype('float32')\n"
   ]
  },
  {
   "cell_type": "code",
   "execution_count": 294,
   "metadata": {},
   "outputs": [],
   "source": [
    "y_pred_valid=model.predict(valid_set[5000000: ])"
   ]
  },
  {
   "cell_type": "code",
   "execution_count": 296,
   "metadata": {},
   "outputs": [
    {
     "name": "stdout",
     "output_type": "stream",
     "text": [
      "7.919221562616218\n",
      "2.0579791917942587\n",
      "0.9872321037700794\n",
      "1.928089151355393\n"
     ]
    }
   ],
   "source": [
    "from sklearn.metrics import mean_squared_error\n",
    "from sklearn.metrics import mean_absolute_error\n",
    "mae = mean_absolute_error(y_pred, y_test)\n",
    "rmse = mean_squared_error(y_pred, y_test, squared=False)\n",
    "validation_mae= mean_absolute_error(y_pred_valid, work2.target1.loc[5000000:])\n",
    "print(rmse)\n",
    "print(mae)\n",
    "print(validation_mae)\n",
    "print(work2.target1.mean())"
   ]
  },
  {
   "cell_type": "code",
   "execution_count": 397,
   "metadata": {},
   "outputs": [
    {
     "ename": "NameError",
     "evalue": "name 'history' is not defined",
     "output_type": "error",
     "traceback": [
      "\u001b[0;31m---------------------------------------------------------------------------\u001b[0m",
      "\u001b[0;31mNameError\u001b[0m                                 Traceback (most recent call last)",
      "\u001b[0;32m<ipython-input-397-b2dcc5d67f0d>\u001b[0m in \u001b[0;36m<module>\u001b[0;34m\u001b[0m\n\u001b[0;32m----> 1\u001b[0;31m \u001b[0mhistory\u001b[0m\u001b[0;34m.\u001b[0m\u001b[0mhistory\u001b[0m\u001b[0;34m.\u001b[0m\u001b[0mkeys\u001b[0m\u001b[0;34m(\u001b[0m\u001b[0;34m)\u001b[0m\u001b[0;34m\u001b[0m\u001b[0;34m\u001b[0m\u001b[0m\n\u001b[0m",
      "\u001b[0;31mNameError\u001b[0m: name 'history' is not defined"
     ]
    }
   ],
   "source": []
  },
  {
   "cell_type": "code",
   "execution_count": null,
   "metadata": {},
   "outputs": [],
   "source": []
  },
  {
   "cell_type": "code",
   "execution_count": null,
   "metadata": {},
   "outputs": [],
   "source": []
  },
  {
   "cell_type": "markdown",
   "metadata": {},
   "source": [
    "## Target 2 Predict"
   ]
  },
  {
   "cell_type": "code",
   "execution_count": 301,
   "metadata": {},
   "outputs": [],
   "source": [
    "model2=Sequential()\n",
    "model2.add(tf.keras.layers.Masking(mask_value=0.0, input_shape=(X_train.shape[1], 1)))\n",
    "\n",
    "model2.add(LSTM(100, return_sequences=True, input_shape=(X_train.shape[1], 1 )))\n",
    "model2.add(LSTM(100, return_sequences=True, input_shape=(X_train.shape[1], 1)))\n",
    "model2.add(LSTM(100, return_sequences=False))\n",
    "model2.add(Dense(35))\n",
    "model2.add(Dense(1))"
   ]
  },
  {
   "cell_type": "code",
   "execution_count": 306,
   "metadata": {},
   "outputs": [],
   "source": [
    "#Compile the model\n",
    "\n",
    "model2.compile(optimizer=optimizer, loss='mean_absolute_error')\n",
    "my_callbacks = [tf.keras.callbacks.EarlyStopping(patience=2)]"
   ]
  },
  {
   "cell_type": "code",
   "execution_count": null,
   "metadata": {},
   "outputs": [],
   "source": []
  },
  {
   "cell_type": "code",
   "execution_count": 307,
   "metadata": {},
   "outputs": [],
   "source": [
    "\n",
    "X=X\n",
    "y= work2.loc[:5000000].target2\n",
    "\n",
    "X_train, X_test, y_train, y_test = train_test_split(X, y, test_size=0.33, random_state=3)"
   ]
  },
  {
   "cell_type": "code",
   "execution_count": 308,
   "metadata": {},
   "outputs": [
    {
     "name": "stdout",
     "output_type": "stream",
     "text": [
      "Epoch 1/12\n",
      "67/67 [==============================] - 440s 6s/step - loss: 8.9146 - val_loss: 4.4897\n",
      "Epoch 2/12\n",
      "67/67 [==============================] - 427s 6s/step - loss: 4.4899 - val_loss: 4.4810\n",
      "Epoch 3/12\n",
      "67/67 [==============================] - 427s 6s/step - loss: 4.4837 - val_loss: 4.4810\n",
      "Epoch 4/12\n",
      "67/67 [==============================] - 435s 7s/step - loss: 4.4838 - val_loss: 4.4809\n",
      "Epoch 5/12\n",
      "67/67 [==============================] - 432s 6s/step - loss: 4.4907 - val_loss: 4.4809\n",
      "Epoch 6/12\n",
      "67/67 [==============================] - 428s 6s/step - loss: 4.4817 - val_loss: 4.4809\n"
     ]
    },
    {
     "data": {
      "text/plain": [
       "<tensorflow.python.keras.callbacks.History at 0x7fbeac5e8ee0>"
      ]
     },
     "execution_count": 308,
     "metadata": {},
     "output_type": "execute_result"
    }
   ],
   "source": [
    "history2=model2.fit(X_train, y_train, batch_size=50000, epochs=12, callbacks=my_callbacks, validation_data=(X_test, y_test), workers=-1 )"
   ]
  },
  {
   "cell_type": "code",
   "execution_count": 309,
   "metadata": {},
   "outputs": [],
   "source": [
    "y_pred2=model2.predict(X_test)"
   ]
  },
  {
   "cell_type": "code",
   "execution_count": 310,
   "metadata": {},
   "outputs": [],
   "source": [
    "y_pred_valid2=model2.predict(valid_set[5000000: ])"
   ]
  },
  {
   "cell_type": "code",
   "execution_count": 311,
   "metadata": {},
   "outputs": [
    {
     "name": "stdout",
     "output_type": "stream",
     "text": [
      "10.465934415700639\n",
      "4.4809030705804345\n",
      "Validation MAE:  3.3801183590918202\n",
      "4.576754679555599\n"
     ]
    }
   ],
   "source": [
    "from sklearn.metrics import mean_squared_error\n",
    "from sklearn.metrics import mean_absolute_error\n",
    "mae = mean_absolute_error(y_pred2, y_test)\n",
    "rmse = mean_squared_error(y_pred2, y_test, squared=False)\n",
    "validation_mae= mean_absolute_error(y_pred_valid2, work2.target2.loc[5000000:])\n",
    "print(rmse)\n",
    "print(mae)\n",
    "print('Validation MAE: ', validation_mae)\n",
    "print(work2.target2.mean())"
   ]
  },
  {
   "cell_type": "markdown",
   "metadata": {},
   "source": [
    "## Target 3 Predict"
   ]
  },
  {
   "cell_type": "code",
   "execution_count": 316,
   "metadata": {},
   "outputs": [],
   "source": [
    "# Adam optimizer\n",
    "optimizer=tf.keras.optimizers.Adam(\n",
    "    learning_rate=0.12,\n",
    "    beta_1=0.9,\n",
    "    beta_2=0.999,\n",
    "    epsilon=1e-07,\n",
    "    amsgrad=True,\n",
    "    name=\"Adam\")\n",
    "\n",
    "\n",
    "model3=Sequential()\n",
    "model3.add(tf.keras.layers.Masking(mask_value=0.0, input_shape=(X_train.shape[1], 1)))\n",
    "\n",
    "model3.add(LSTM(100, return_sequences=True, input_shape=(X_train.shape[1], 1 )))\n",
    "model3.add(LSTM(100, return_sequences=True, input_shape=(X_train.shape[1], 1)))\n",
    "model3.add(LSTM(100, return_sequences=False))\n",
    "model3.add(Dense(35))\n",
    "model3.add(Dense(1))"
   ]
  },
  {
   "cell_type": "code",
   "execution_count": 317,
   "metadata": {},
   "outputs": [],
   "source": [
    "#Compile the model\n",
    "\n",
    "model3.compile(optimizer=optimizer, loss='mean_absolute_error')\n",
    "my_callbacks = [tf.keras.callbacks.EarlyStopping(patience=2)]"
   ]
  },
  {
   "cell_type": "code",
   "execution_count": 318,
   "metadata": {},
   "outputs": [],
   "source": [
    "\n",
    "X=X\n",
    "y= work2.loc[:5000000].target3\n",
    "\n",
    "X_train, X_test, y_train, y_test = train_test_split(X, y, test_size=0.33, random_state=3)"
   ]
  },
  {
   "cell_type": "code",
   "execution_count": 319,
   "metadata": {},
   "outputs": [
    {
     "name": "stdout",
     "output_type": "stream",
     "text": [
      "Epoch 1/12\n",
      "67/67 [==============================] - 441s 6s/step - loss: 5.6059 - val_loss: 1.6503\n",
      "Epoch 2/12\n",
      "67/67 [==============================] - 427s 6s/step - loss: 1.5824 - val_loss: 1.5584\n",
      "Epoch 3/12\n",
      "67/67 [==============================] - 425s 6s/step - loss: 1.5628 - val_loss: 1.5582\n",
      "Epoch 4/12\n",
      "67/67 [==============================] - 425s 6s/step - loss: 1.5506 - val_loss: 1.5582\n",
      "Epoch 5/12\n",
      "67/67 [==============================] - 426s 6s/step - loss: 1.5482 - val_loss: 1.5582\n",
      "Epoch 6/12\n",
      "67/67 [==============================] - 426s 6s/step - loss: 1.5543 - val_loss: 1.5582\n",
      "Epoch 7/12\n",
      "67/67 [==============================] - 425s 6s/step - loss: 1.5613 - val_loss: 1.5582\n"
     ]
    },
    {
     "data": {
      "text/plain": [
       "<tensorflow.python.keras.callbacks.History at 0x7fbe4c9c8640>"
      ]
     },
     "execution_count": 319,
     "metadata": {},
     "output_type": "execute_result"
    }
   ],
   "source": [
    "history3= model3.fit(X_train, y_train, batch_size=50000, epochs=12, callbacks=my_callbacks, validation_data=(X_test, y_test), workers=-1 )"
   ]
  },
  {
   "cell_type": "code",
   "execution_count": 320,
   "metadata": {},
   "outputs": [],
   "source": [
    "y_pred3=model3.predict(X_test)"
   ]
  },
  {
   "cell_type": "code",
   "execution_count": 321,
   "metadata": {},
   "outputs": [],
   "source": [
    "y_pred_valid3=model3.predict(valid_set[5000000: ])"
   ]
  },
  {
   "cell_type": "code",
   "execution_count": 322,
   "metadata": {},
   "outputs": [
    {
     "name": "stdout",
     "output_type": "stream",
     "text": [
      "7.79654390287602\n",
      "1.558158709866656\n",
      "Validation MAE:  1.03894356210404\n",
      "1.49127426435589\n"
     ]
    }
   ],
   "source": [
    "\n",
    "mae = mean_absolute_error(y_pred3, y_test)\n",
    "rmse = mean_squared_error(y_pred3, y_test, squared=False)\n",
    "validation_mae= mean_absolute_error(y_pred_valid3, work2.target3.loc[5000000:])\n",
    "print(rmse)\n",
    "print(mae)\n",
    "print('Validation MAE: ', validation_mae)\n",
    "print(work2.target3.mean())"
   ]
  },
  {
   "cell_type": "markdown",
   "metadata": {},
   "source": [
    "## Target 4 Prediction"
   ]
  },
  {
   "cell_type": "code",
   "execution_count": 327,
   "metadata": {},
   "outputs": [],
   "source": [
    "# Adam optimizer\n",
    "optimizer=tf.keras.optimizers.Adam(\n",
    "    learning_rate=0.15,\n",
    "    beta_1=0.9,\n",
    "    beta_2=0.999,\n",
    "    epsilon=1e-07,\n",
    "    amsgrad=True,\n",
    "    name=\"Adam\")\n",
    "\n",
    "\n",
    "model4=Sequential()\n",
    "model4.add(tf.keras.layers.Masking(mask_value=0.0, input_shape=(X_train.shape[1], 1)))\n",
    "\n",
    "model4.add(LSTM(100, return_sequences=True, input_shape=(X_train.shape[1], 1 )))\n",
    "model4.add(LSTM(100, return_sequences=True, input_shape=(X_train.shape[1], 1)))\n",
    "model4.add(LSTM(100, return_sequences=False))\n",
    "model4.add(Dense(35))\n",
    "model4.add(Dense(1))"
   ]
  },
  {
   "cell_type": "code",
   "execution_count": 328,
   "metadata": {},
   "outputs": [],
   "source": [
    "#Compile the model\n",
    "\n",
    "model4.compile(optimizer=optimizer, loss='mean_absolute_error')\n",
    "my_callbacks = [tf.keras.callbacks.EarlyStopping(patience=2)]"
   ]
  },
  {
   "cell_type": "code",
   "execution_count": 329,
   "metadata": {},
   "outputs": [],
   "source": [
    "X=X\n",
    "y= work2.loc[:5000000].target4\n",
    "\n",
    "X_train, X_test, y_train, y_test = train_test_split(X, y, test_size=0.33, random_state=3)"
   ]
  },
  {
   "cell_type": "code",
   "execution_count": 330,
   "metadata": {},
   "outputs": [
    {
     "name": "stdout",
     "output_type": "stream",
     "text": [
      "Epoch 1/12\n",
      "67/67 [==============================] - 436s 6s/step - loss: 8.1181 - val_loss: 3.3054\n",
      "Epoch 2/12\n",
      "67/67 [==============================] - 425s 6s/step - loss: 3.3123 - val_loss: 3.2984\n",
      "Epoch 3/12\n",
      "67/67 [==============================] - 426s 6s/step - loss: 3.2949 - val_loss: 3.2984\n",
      "Epoch 4/12\n",
      "67/67 [==============================] - 437s 7s/step - loss: 3.2970 - val_loss: 3.2984\n",
      "Epoch 5/12\n",
      "67/67 [==============================] - 435s 7s/step - loss: 3.3032 - val_loss: 3.2984\n"
     ]
    },
    {
     "data": {
      "text/plain": [
       "<tensorflow.python.keras.callbacks.History at 0x7fbe2d950310>"
      ]
     },
     "execution_count": 330,
     "metadata": {},
     "output_type": "execute_result"
    }
   ],
   "source": [
    "history4= model4.fit(X_train, y_train, batch_size=50000, epochs=12, callbacks=my_callbacks, validation_data=(X_test, y_test), workers=-1 )"
   ]
  },
  {
   "cell_type": "code",
   "execution_count": 332,
   "metadata": {},
   "outputs": [],
   "source": [
    "y_pred4=model4.predict(X_test)"
   ]
  },
  {
   "cell_type": "code",
   "execution_count": 333,
   "metadata": {},
   "outputs": [],
   "source": [
    "y_pred_valid4=model4.predict(valid_set[5000000: ])"
   ]
  },
  {
   "cell_type": "code",
   "execution_count": 334,
   "metadata": {},
   "outputs": [
    {
     "name": "stdout",
     "output_type": "stream",
     "text": [
      "8.651422769077609\n",
      "3.298362966086506\n",
      "Validation MAE:  1.7855766160743838\n",
      "3.271552869493372\n"
     ]
    }
   ],
   "source": [
    "mae = mean_absolute_error(y_pred4, y_test)\n",
    "rmse = mean_squared_error(y_pred4, y_test, squared=False)\n",
    "validation_mae= mean_absolute_error(y_pred_valid4, work2.target4.loc[5000000:])\n",
    "print(rmse)\n",
    "print(mae)\n",
    "print('Validation MAE: ', validation_mae)\n",
    "print(work2.target4.mean())"
   ]
  },
  {
   "cell_type": "code",
   "execution_count": 337,
   "metadata": {},
   "outputs": [
    {
     "data": {
      "text/plain": [
       "0          20180102\n",
       "1          20180103\n",
       "2          20180104\n",
       "3          20180105\n",
       "4          20180106\n",
       "             ...   \n",
       "5737818    20210501\n",
       "5737819    20210501\n",
       "5737820    20210501\n",
       "5737821    20210501\n",
       "5737822    20210501\n",
       "Name: gameDate, Length: 5737823, dtype: object"
      ]
     },
     "execution_count": 337,
     "metadata": {},
     "output_type": "execute_result"
    }
   ],
   "source": [
    "work2.gameDate"
   ]
  },
  {
   "cell_type": "code",
   "execution_count": 338,
   "metadata": {},
   "outputs": [
    {
     "data": {
      "text/plain": [
       "0          2.018010e+13\n",
       "1          2.018010e+13\n",
       "2          2.018010e+13\n",
       "3          2.018011e+13\n",
       "4          2.018011e+13\n",
       "               ...     \n",
       "5737818    2.021050e+13\n",
       "5737819    2.021050e+13\n",
       "5737820    2.021050e+13\n",
       "5737821    2.021050e+13\n",
       "5737822    2.021050e+13\n",
       "Name: playerName, Length: 5737823, dtype: float64"
      ]
     },
     "execution_count": 338,
     "metadata": {},
     "output_type": "execute_result"
    }
   ],
   "source": [
    "work2.playerName"
   ]
  },
  {
   "cell_type": "code",
   "execution_count": 344,
   "metadata": {},
   "outputs": [],
   "source": [
    "work4=work2.drop(['target1', 'target2', 'target3', 'target4'], inplace=False, axis=1)"
   ]
  },
  {
   "cell_type": "code",
   "execution_count": 372,
   "metadata": {},
   "outputs": [
    {
     "data": {
      "text/plain": [
       "(5737823, 7)"
      ]
     },
     "execution_count": 372,
     "metadata": {},
     "output_type": "execute_result"
    }
   ],
   "source": [
    "valid_set.shape"
   ]
  },
  {
   "cell_type": "code",
   "execution_count": 368,
   "metadata": {},
   "outputs": [],
   "source": [
    "frames=[pd.DataFrame(X),pd.DataFrame(valid_set[5000000: ])]\n",
    "Xfor_targ=pd.concat(frames, axis=0)"
   ]
  },
  {
   "cell_type": "code",
   "execution_count": 378,
   "metadata": {},
   "outputs": [],
   "source": [
    "unnormalized_data=work2.drop(['target1', 'target2', 'target3', 'target4'], inplace=False, axis=1)"
   ]
  },
  {
   "cell_type": "code",
   "execution_count": 373,
   "metadata": {},
   "outputs": [],
   "source": [
    "target1=model.predict(valid_set)"
   ]
  },
  {
   "cell_type": "code",
   "execution_count": null,
   "metadata": {},
   "outputs": [],
   "source": []
  },
  {
   "cell_type": "code",
   "execution_count": 374,
   "metadata": {},
   "outputs": [],
   "source": [
    "target2=model2.predict(valid_set)"
   ]
  },
  {
   "cell_type": "code",
   "execution_count": 375,
   "metadata": {},
   "outputs": [],
   "source": [
    "target3=model3.predict(valid_set)"
   ]
  },
  {
   "cell_type": "code",
   "execution_count": 376,
   "metadata": {},
   "outputs": [],
   "source": [
    "target4=model4.predict(valid_set)"
   ]
  },
  {
   "cell_type": "code",
   "execution_count": 383,
   "metadata": {},
   "outputs": [
    {
     "data": {
      "text/plain": [
       "3.102992059098233"
      ]
     },
     "execution_count": 383,
     "metadata": {},
     "output_type": "execute_result"
    }
   ],
   "source": [
    "mae_entire = mean_absolute_error(target4, work2.target4)\n",
    "mae_entire"
   ]
  },
  {
   "cell_type": "markdown",
   "metadata": {},
   "source": [
    "## Reconstruct dataframe to enter data into competition module"
   ]
  },
  {
   "cell_type": "code",
   "execution_count": 387,
   "metadata": {},
   "outputs": [],
   "source": [
    "a=pd.DataFrame(target1)\n",
    "b=pd.DataFrame(target2)\n",
    "c=pd.DataFrame(target3)\n",
    "d=pd.DataFrame(target4)"
   ]
  },
  {
   "cell_type": "code",
   "execution_count": 389,
   "metadata": {},
   "outputs": [],
   "source": [
    "frames=[work2.gameDate, work2.playerName, a[0], b[0], c[0], d[0]]\n",
    "sample_prediction_df= pd.concat(frames, axis=1)"
   ]
  },
  {
   "cell_type": "code",
   "execution_count": 194,
   "metadata": {
    "execution": {
     "iopub.execute_input": "2021-07-22T22:02:06.245419Z",
     "iopub.status.busy": "2021-07-22T22:02:06.245065Z",
     "iopub.status.idle": "2021-07-22T22:02:06.273743Z",
     "shell.execute_reply": "2021-07-22T22:02:06.272394Z",
     "shell.execute_reply.started": "2021-07-22T22:02:06.245390Z"
    }
   },
   "outputs": [
    {
     "data": {
      "text/html": [
       "<div>\n",
       "<style scoped>\n",
       "    .dataframe tbody tr th:only-of-type {\n",
       "        vertical-align: middle;\n",
       "    }\n",
       "\n",
       "    .dataframe tbody tr th {\n",
       "        vertical-align: top;\n",
       "    }\n",
       "\n",
       "    .dataframe thead th {\n",
       "        text-align: right;\n",
       "    }\n",
       "</style>\n",
       "<table border=\"1\" class=\"dataframe\">\n",
       "  <thead>\n",
       "    <tr style=\"text-align: right;\">\n",
       "      <th></th>\n",
       "      <th>gameDate</th>\n",
       "      <th>playerName</th>\n",
       "      <th>0</th>\n",
       "      <th>1</th>\n",
       "      <th>2</th>\n",
       "      <th>3</th>\n",
       "    </tr>\n",
       "  </thead>\n",
       "  <tbody>\n",
       "    <tr>\n",
       "      <th>0</th>\n",
       "      <td>20180102</td>\n",
       "      <td>2.018010e+13</td>\n",
       "      <td>0.368547</td>\n",
       "      <td>7.733124</td>\n",
       "      <td>3.013002</td>\n",
       "      <td>4.109694</td>\n",
       "    </tr>\n",
       "    <tr>\n",
       "      <th>1</th>\n",
       "      <td>20180103</td>\n",
       "      <td>2.018010e+13</td>\n",
       "      <td>0.119187</td>\n",
       "      <td>5.127828</td>\n",
       "      <td>3.163472</td>\n",
       "      <td>3.395800</td>\n",
       "    </tr>\n",
       "    <tr>\n",
       "      <th>2</th>\n",
       "      <td>20180104</td>\n",
       "      <td>2.018010e+13</td>\n",
       "      <td>0.318540</td>\n",
       "      <td>4.247799</td>\n",
       "      <td>3.758225</td>\n",
       "      <td>6.997953</td>\n",
       "    </tr>\n",
       "    <tr>\n",
       "      <th>3</th>\n",
       "      <td>20180105</td>\n",
       "      <td>2.018011e+13</td>\n",
       "      <td>2.083157</td>\n",
       "      <td>5.852471</td>\n",
       "      <td>5.982971</td>\n",
       "      <td>8.703647</td>\n",
       "    </tr>\n",
       "    <tr>\n",
       "      <th>4</th>\n",
       "      <td>20180106</td>\n",
       "      <td>2.018011e+13</td>\n",
       "      <td>1.872686</td>\n",
       "      <td>1.607215</td>\n",
       "      <td>3.842961</td>\n",
       "      <td>2.479930</td>\n",
       "    </tr>\n",
       "    <tr>\n",
       "      <th>...</th>\n",
       "      <td>...</td>\n",
       "      <td>...</td>\n",
       "      <td>...</td>\n",
       "      <td>...</td>\n",
       "      <td>...</td>\n",
       "      <td>...</td>\n",
       "    </tr>\n",
       "    <tr>\n",
       "      <th>5737818</th>\n",
       "      <td>20210501</td>\n",
       "      <td>2.021050e+13</td>\n",
       "      <td>1.960047</td>\n",
       "      <td>3.350380</td>\n",
       "      <td>0.361740</td>\n",
       "      <td>1.106903</td>\n",
       "    </tr>\n",
       "    <tr>\n",
       "      <th>5737819</th>\n",
       "      <td>20210501</td>\n",
       "      <td>2.021050e+13</td>\n",
       "      <td>1.700611</td>\n",
       "      <td>3.574175</td>\n",
       "      <td>0.568420</td>\n",
       "      <td>2.415193</td>\n",
       "    </tr>\n",
       "    <tr>\n",
       "      <th>5737820</th>\n",
       "      <td>20210501</td>\n",
       "      <td>2.021050e+13</td>\n",
       "      <td>3.150522</td>\n",
       "      <td>3.339204</td>\n",
       "      <td>0.266100</td>\n",
       "      <td>2.105493</td>\n",
       "    </tr>\n",
       "    <tr>\n",
       "      <th>5737821</th>\n",
       "      <td>20210501</td>\n",
       "      <td>2.021050e+13</td>\n",
       "      <td>1.960047</td>\n",
       "      <td>3.350380</td>\n",
       "      <td>0.361740</td>\n",
       "      <td>1.106903</td>\n",
       "    </tr>\n",
       "    <tr>\n",
       "      <th>5737822</th>\n",
       "      <td>20210501</td>\n",
       "      <td>2.021050e+13</td>\n",
       "      <td>1.700611</td>\n",
       "      <td>3.574175</td>\n",
       "      <td>0.568420</td>\n",
       "      <td>2.415193</td>\n",
       "    </tr>\n",
       "  </tbody>\n",
       "</table>\n",
       "<p>5737823 rows × 6 columns</p>\n",
       "</div>"
      ],
      "text/plain": [
       "         gameDate    playerName         0         1         2         3\n",
       "0        20180102  2.018010e+13  0.368547  7.733124  3.013002  4.109694\n",
       "1        20180103  2.018010e+13  0.119187  5.127828  3.163472  3.395800\n",
       "2        20180104  2.018010e+13  0.318540  4.247799  3.758225  6.997953\n",
       "3        20180105  2.018011e+13  2.083157  5.852471  5.982971  8.703647\n",
       "4        20180106  2.018011e+13  1.872686  1.607215  3.842961  2.479930\n",
       "...           ...           ...       ...       ...       ...       ...\n",
       "5737818  20210501  2.021050e+13  1.960047  3.350380  0.361740  1.106903\n",
       "5737819  20210501  2.021050e+13  1.700611  3.574175  0.568420  2.415193\n",
       "5737820  20210501  2.021050e+13  3.150522  3.339204  0.266100  2.105493\n",
       "5737821  20210501  2.021050e+13  1.960047  3.350380  0.361740  1.106903\n",
       "5737822  20210501  2.021050e+13  1.700611  3.574175  0.568420  2.415193\n",
       "\n",
       "[5737823 rows x 6 columns]"
      ]
     },
     "execution_count": 194,
     "metadata": {},
     "output_type": "execute_result"
    }
   ],
   "source": [
    "sample_prediction_df"
   ]
  },
  {
   "cell_type": "code",
   "execution_count": 390,
   "metadata": {},
   "outputs": [],
   "source": [
    "sample_prediction_df.rename(columns={0:'target1', 1:'target2', 2: 'target3', 3: 'target4'}, inplace=True)"
   ]
  },
  {
   "cell_type": "code",
   "execution_count": 391,
   "metadata": {},
   "outputs": [],
   "source": [
    "prediction_df=sample_prediction_df"
   ]
  },
  {
   "cell_type": "code",
   "execution_count": null,
   "metadata": {},
   "outputs": [],
   "source": []
  },
  {
   "cell_type": "code",
   "execution_count": null,
   "metadata": {},
   "outputs": [],
   "source": []
  },
  {
   "cell_type": "code",
   "execution_count": 197,
   "metadata": {
    "execution": {
     "iopub.execute_input": "2021-07-22T22:02:27.131336Z",
     "iopub.status.busy": "2021-07-22T22:02:27.130948Z",
     "iopub.status.idle": "2021-07-22T22:02:27.160182Z",
     "shell.execute_reply": "2021-07-22T22:02:27.159063Z",
     "shell.execute_reply.started": "2021-07-22T22:02:27.131305Z"
    }
   },
   "outputs": [],
   "source": [
    "import mlb\n",
    "env = mlb.make_env() # initialize the environment\n",
    "iter_test = env.iter_test() # iterator which loops over each date in test set\n",
    "\n"
   ]
  },
  {
   "cell_type": "code",
   "execution_count": 198,
   "metadata": {
    "execution": {
     "iopub.execute_input": "2021-07-22T22:02:29.561406Z",
     "iopub.status.busy": "2021-07-22T22:02:29.561025Z",
     "iopub.status.idle": "2021-07-22T22:02:31.184462Z",
     "shell.execute_reply": "2021-07-22T22:02:31.183478Z",
     "shell.execute_reply.started": "2021-07-22T22:02:29.561372Z"
    }
   },
   "outputs": [
    {
     "name": "stdout",
     "output_type": "stream",
     "text": [
      "This version of the API is not optimized and should not be used to estimate the runtime of your code on the hidden test set.\n"
     ]
    }
   ],
   "source": [
    "for (test_df, prediction_df) in iter_test:\n",
    "    prediction_df['target1'] = 100 #make predictions here\n",
    "    env.predict(prediction_df)"
   ]
  },
  {
   "cell_type": "code",
   "execution_count": 199,
   "metadata": {
    "execution": {
     "iopub.execute_input": "2021-07-22T22:02:36.447286Z",
     "iopub.status.busy": "2021-07-22T22:02:36.446912Z",
     "iopub.status.idle": "2021-07-22T22:02:36.458390Z",
     "shell.execute_reply": "2021-07-22T22:02:36.457365Z",
     "shell.execute_reply.started": "2021-07-22T22:02:36.447256Z"
    }
   },
   "outputs": [],
   "source": [
    "prediction_df.to_csv('/kaggle/working/hereitis.csv')"
   ]
  },
  {
   "cell_type": "code",
   "execution_count": null,
   "metadata": {},
   "outputs": [],
   "source": []
  }
 ],
 "metadata": {
  "kernelspec": {
   "display_name": "Python 3",
   "language": "python",
   "name": "python3"
  },
  "language_info": {
   "codemirror_mode": {
    "name": "ipython",
    "version": 3
   },
   "file_extension": ".py",
   "mimetype": "text/x-python",
   "name": "python",
   "nbconvert_exporter": "python",
   "pygments_lexer": "ipython3",
   "version": "3.8.5"
  }
 },
 "nbformat": 4,
 "nbformat_minor": 4
}
