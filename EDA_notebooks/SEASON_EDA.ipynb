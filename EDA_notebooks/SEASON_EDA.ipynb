{
 "cells": [
  {
   "cell_type": "markdown",
   "metadata": {},
   "source": [
    "## SEASON dataframe & EDA"
   ]
  },
  {
   "cell_type": "code",
   "execution_count": 2,
   "metadata": {},
   "outputs": [],
   "source": [
    "#import necessary packages\n",
    "import pandas as pd\n",
    "import numpy as np\n",
    "import seaborn as sns\n",
    "import matplotlib.pyplot as plt\n",
    "%matplotlib inline\n",
    "import sklearn\n",
    "import re\n",
    "import csv\n",
    "from datetime import datetime\n",
    "import os"
   ]
  },
  {
   "cell_type": "code",
   "execution_count": 3,
   "metadata": {},
   "outputs": [],
   "source": [
    "#very important data for prelim EDA\n",
    "data1=pd.read_csv('mlb-player-digital-engagement-forecasting/train.csv')"
   ]
  },
  {
   "cell_type": "code",
   "execution_count": 4,
   "metadata": {},
   "outputs": [
    {
     "data": {
      "text/plain": [
       "(1216, 12)"
      ]
     },
     "execution_count": 4,
     "metadata": {},
     "output_type": "execute_result"
    }
   ],
   "source": [
    "import json\n",
    "data1.shape"
   ]
  },
  {
   "cell_type": "code",
   "execution_count": 5,
   "metadata": {},
   "outputs": [
    {
     "data": {
      "text/plain": [
       "'[{\"gamePk\":533782,\"gameType\":\"E\",\"season\":2018,\"gameDate\":\"2018-02-21\",\"gameTimeUTC\":\"2018-02-21T20:10:00Z\",\"resumeDate\":null,\"resumedFrom\":null,\"codedGameState\":\"F\",\"detailedGameState\":\"Final\",\"isTie\":false,\"gameNumber\":1,\"doubleHeader\":\"N\",\"dayNight\":\"day\",\"scheduledInnings\":7,\"gamesInSeries\":0,\"seriesDescription\":\"Exhibition\",\"homeId\":109,\"homeName\":\"Arizona Diamondbacks\",\"homeAbbrev\":\"ARI\",\"homeWins\":1,\"homeLosses\":0,\"homeWinPct\":1,\"homeWinner\":true,\"homeScore\":7,\"awayId\":5035,\"awayName\":\"Arizona State Sun Devils\",\"awayAbbrev\":\"ASU\",\"awayWins\":0,\"awayLosses\":1,\"awayWinPct\":0,\"awayWinner\":false,\"awayScore\":2}]'"
      ]
     },
     "execution_count": 5,
     "metadata": {},
     "output_type": "execute_result"
    }
   ],
   "source": [
    "season=data1.games.dropna()\n",
    "season.loc[51]"
   ]
  },
  {
   "cell_type": "code",
   "execution_count": 6,
   "metadata": {},
   "outputs": [
    {
     "name": "stderr",
     "output_type": "stream",
     "text": [
      "IOPub data rate exceeded.\n",
      "The notebook server will temporarily stop sending output\n",
      "to the client in order to avoid crashing it.\n",
      "To change this limit, set the config variable\n",
      "`--NotebookApp.iopub_data_rate_limit`.\n",
      "\n",
      "Current values:\n",
      "NotebookApp.iopub_data_rate_limit=1000000.0 (bytes/sec)\n",
      "NotebookApp.rate_limit_window=3.0 (secs)\n",
      "\n"
     ]
    }
   ],
   "source": [
    "for i in range(51,639,1):\n",
    "    try:\n",
    "        print(season.loc[i])\n",
    "        list_ele=season.loc[i].split(',')\n",
    "        list_create=[x.split(':') for x in list_ele]\n",
    "    except:\n",
    "        'KeyError: 86'\n",
    "\n",
    "#     df5=pd.DataFrame(season.loc[i])"
   ]
  },
  {
   "cell_type": "code",
   "execution_count": null,
   "metadata": {},
   "outputs": [],
   "source": []
  }
 ],
 "metadata": {
  "kernelspec": {
   "display_name": "Python 3",
   "language": "python",
   "name": "python3"
  },
  "language_info": {
   "codemirror_mode": {
    "name": "ipython",
    "version": 3
   },
   "file_extension": ".py",
   "mimetype": "text/x-python",
   "name": "python",
   "nbconvert_exporter": "python",
   "pygments_lexer": "ipython3",
   "version": "3.8.5"
  }
 },
 "nbformat": 4,
 "nbformat_minor": 4
}
